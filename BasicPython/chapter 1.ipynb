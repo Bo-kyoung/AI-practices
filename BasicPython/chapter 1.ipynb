{
 "cells": [
  {
   "cell_type": "code",
   "execution_count": 2,
   "id": "d32a38e1",
   "metadata": {},
   "outputs": [
    {
     "data": {
      "text/plain": [
       "4250.0"
      ]
     },
     "execution_count": 2,
     "metadata": {},
     "output_type": "execute_result"
    }
   ],
   "source": [
    "price =5000\n",
    "price *=0.85\n",
    "price"
   ]
  },
  {
   "cell_type": "code",
   "execution_count": 12,
   "id": "035ed79a",
   "metadata": {},
   "outputs": [
    {
     "data": {
      "text/plain": [
       "d\n",
       "1    2.666667\n",
       "2    8.000000\n",
       "Name: b, dtype: float64"
      ]
     },
     "execution_count": 12,
     "metadata": {},
     "output_type": "execute_result"
    }
   ],
   "source": [
    "sort= [1,1,2,3,4,5]\n",
    "data = {'a':[1,1,2,3,4,5,],'b':[i*2 for i in sort],'c':[i**2 for i in sort],'d':[1,1,1,2,2,2]}\n",
    "\n",
    "import pandas as pd\n",
    "\n",
    "df = pd.DataFrame(data)\n",
    "df.head()\n",
    "df.groupby(by = 'd')['b'].mean()"
   ]
  },
  {
   "cell_type": "code",
   "execution_count": 17,
   "id": "33ea3f03",
   "metadata": {},
   "outputs": [
    {
     "data": {
      "text/plain": [
       "['안녕_0', '하세요_1', '입니다_2']"
      ]
     },
     "execution_count": 17,
     "metadata": {},
     "output_type": "execute_result"
    }
   ],
   "source": [
    "basic = ['안녕','하세요','입니다']\n",
    "basic_i = [i +'_'+str(j) for j, i in enumerate(basic)]\n",
    "basic_i"
   ]
  },
  {
   "cell_type": "code",
   "execution_count": 3,
   "id": "32d5d8b9",
   "metadata": {},
   "outputs": [
    {
     "data": {
      "text/plain": [
       "88.0"
      ]
     },
     "execution_count": 3,
     "metadata": {},
     "output_type": "execute_result"
    }
   ],
   "source": [
    "(800*110)/1000"
   ]
  },
  {
   "cell_type": "code",
   "execution_count": 4,
   "id": "65fdae9b",
   "metadata": {},
   "outputs": [],
   "source": [
    "family = ['mother','father','gentleman','lady']"
   ]
  },
  {
   "cell_type": "code",
   "execution_count": 5,
   "id": "fe36c64c",
   "metadata": {},
   "outputs": [
    {
     "data": {
      "text/plain": [
       "4"
      ]
     },
     "execution_count": 5,
     "metadata": {},
     "output_type": "execute_result"
    }
   ],
   "source": [
    "len(family)"
   ]
  },
  {
   "cell_type": "code",
   "execution_count": 8,
   "id": "99240b08",
   "metadata": {},
   "outputs": [],
   "source": [
    "family.remove('gentleman')"
   ]
  },
  {
   "cell_type": "code",
   "execution_count": 10,
   "id": "af7d8a2c",
   "metadata": {},
   "outputs": [
    {
     "name": "stdout",
     "output_type": "stream",
     "text": [
      "직각삼각형 그리기\n",
      "\n",
      "변의 길이 :4\n",
      "*\n",
      "**\n",
      "***\n",
      "****\n"
     ]
    },
    {
     "data": {
      "text/plain": [
       "8.0"
      ]
     },
     "execution_count": 10,
     "metadata": {},
     "output_type": "execute_result"
    }
   ],
   "source": [
    "print(\"직각삼각형 그리기\\n\")\n",
    "leg = int(input(\"변의 길이 :\"))\n",
    "\n",
    "for i in range(leg):\n",
    "    print(\"*\" * (i+1))\n",
    "    \n",
    "area = (leg**2)/2\n",
    "area"
   ]
  },
  {
   "cell_type": "code",
   "execution_count": 13,
   "id": "ff591fe2",
   "metadata": {
    "scrolled": true
   },
   "outputs": [
    {
     "name": "stdout",
     "output_type": "stream",
     "text": [
      "숫자 :3\n",
      "9\n"
     ]
    }
   ],
   "source": [
    "number = int(input(\"숫자 :\")) #input은 str로 받음\n",
    "print(number **2)"
   ]
  }
 ],
 "metadata": {
  "kernelspec": {
   "display_name": "Python 3 (ipykernel)",
   "language": "python",
   "name": "python3"
  },
  "language_info": {
   "codemirror_mode": {
    "name": "ipython",
    "version": 3
   },
   "file_extension": ".py",
   "mimetype": "text/x-python",
   "name": "python",
   "nbconvert_exporter": "python",
   "pygments_lexer": "ipython3",
   "version": "3.9.13"
  }
 },
 "nbformat": 4,
 "nbformat_minor": 5
}
