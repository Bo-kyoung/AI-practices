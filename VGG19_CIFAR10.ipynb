{
  "cells": [
    {
      "cell_type": "markdown",
      "metadata": {
        "id": "view-in-github",
        "colab_type": "text"
      },
      "source": [
        "<a href=\"https://colab.research.google.com/github/Bo-kyoung/practices/blob/main/VGG19_CIFAR10.ipynb\" target=\"_parent\"><img src=\"https://colab.research.google.com/assets/colab-badge.svg\" alt=\"Open In Colab\"/></a>"
      ]
    },
    {
      "cell_type": "code",
      "execution_count": 1,
      "metadata": {
        "id": "Sco01lfxs4kw",
        "colab": {
          "base_uri": "https://localhost:8080/"
        },
        "outputId": "070dea2f-3122-41a6-9989-442ab181de8b"
      },
      "outputs": [
        {
          "output_type": "stream",
          "name": "stdout",
          "text": [
            "cuda\n"
          ]
        }
      ],
      "source": [
        "import torch\n",
        "import torch.nn as nn\n",
        "import torch.optim as optim\n",
        "import torch.nn.functional as F\n",
        "from torch.utils.data import DataLoader\n",
        "import torchvision.datasets as dsets\n",
        "import torchvision.transforms as transforms\n",
        "import torch.nn.init\n",
        "import numpy as np\n",
        "import matplotlib.pyplot as plt\n",
        "\n",
        "device = 'cuda' if torch.cuda.is_available() else 'cpu'\n",
        "torch.manual_seed(777)\n",
        "if device == 'cuda':\n",
        "  print(\"cuda\")\n",
        "  torch.cuda.manual_seed_all(777)\n",
        "\n",
        "\n",
        "from torchvision import models\n",
        "from torchsummary import summary\n"
      ]
    },
    {
      "cell_type": "code",
      "source": [
        "transform = transforms.Compose([transforms.ToTensor()])\n",
        "   #,transforms.Normalize((0.5,0.5,0.5), (0.5,0.5,0.5))])"
      ],
      "metadata": {
        "id": "0qEAFjANuOZa"
      },
      "execution_count": 2,
      "outputs": []
    },
    {
      "cell_type": "code",
      "execution_count": 3,
      "metadata": {
        "id": "iUGWe5TodmEP"
      },
      "outputs": [],
      "source": [
        "learning_rate = 0.01\n",
        "training_epochs = 74\n",
        "batch_size = 200"
      ]
    },
    {
      "cell_type": "code",
      "execution_count": 4,
      "metadata": {
        "colab": {
          "base_uri": "https://localhost:8080/",
          "height": 156,
          "referenced_widgets": [
            "2383f7a5bd144cf991919b559812ffdf",
            "4b47fa894e22438ea42969d8cd448970",
            "affd021788a64f34a0bb163ad3f4f50d",
            "272a6d0f542248cea512822463832532",
            "9544b913611d42079d864476d33e4a0f",
            "6f475db2b21f4a81ab884a8c42099f13",
            "0806703bc3d843eeb62274783210f964",
            "5e4e772e9fc14b648e8c5c39434a3d94",
            "a60f7e7487ff49f2b853717ffab5c6ac",
            "a3101e5054124e1ba2dde272f5f4e267",
            "1ad50a739bd74119855e7ac46a15ca3b",
            "e0d8c83985a64f2eaf80efa46b4dbe58",
            "4bb03fa3f74544dbbdb62e9768f2fc74",
            "6a6418ccfd40472a896570d368b336be",
            "fd5f34385d574d3d843239356d047ff6",
            "099803a8d0964c2fb2bef3d28de1f2e3",
            "492448577d534d88845579d85474f7bc",
            "8523fc2f2bae4217b31b5b32fce917ef",
            "eecc6bf8d1814fce884c1ef5fdef81c4",
            "0803e160bb54485e97d11377070f9430",
            "b64a36cb8f8a4a3fb324a8c4a319a3ce",
            "a1b02e5bbccd4e9fa82d5755bb740a3c"
          ]
        },
        "id": "oQTT4L7L5vW3",
        "outputId": "df45580d-e36c-402f-eb64-56f2189a0d6f"
      },
      "outputs": [
        {
          "output_type": "stream",
          "name": "stdout",
          "text": [
            "Downloading https://www.cs.toronto.edu/~kriz/cifar-10-python.tar.gz to data/cifar-10-python.tar.gz\n"
          ]
        },
        {
          "output_type": "display_data",
          "data": {
            "application/vnd.jupyter.widget-view+json": {
              "model_id": "2383f7a5bd144cf991919b559812ffdf",
              "version_minor": 0,
              "version_major": 2
            },
            "text/plain": [
              "  0%|          | 0/170498071 [00:00<?, ?it/s]"
            ]
          },
          "metadata": {}
        },
        {
          "output_type": "stream",
          "name": "stdout",
          "text": [
            "Extracting data/cifar-10-python.tar.gz to data/\n",
            "Downloading https://www.cs.toronto.edu/~kriz/cifar-10-python.tar.gz to d0ta/cifar-10-python.tar.gz\n"
          ]
        },
        {
          "output_type": "display_data",
          "data": {
            "application/vnd.jupyter.widget-view+json": {
              "model_id": "e0d8c83985a64f2eaf80efa46b4dbe58",
              "version_minor": 0,
              "version_major": 2
            },
            "text/plain": [
              "  0%|          | 0/170498071 [00:00<?, ?it/s]"
            ]
          },
          "metadata": {}
        },
        {
          "output_type": "stream",
          "name": "stdout",
          "text": [
            "Extracting d0ta/cifar-10-python.tar.gz to d0ta/\n"
          ]
        }
      ],
      "source": [
        "CIFAR10_train = dsets.CIFAR10(root='data/',train = True, download=True, transform=transform)\n",
        "CIFAR10_test = dsets.CIFAR10(root='d0ta/', train=False, download = True, transform=transform)"
      ]
    },
    {
      "cell_type": "code",
      "execution_count": 5,
      "metadata": {
        "id": "KnWYq5Ri6Uay"
      },
      "outputs": [],
      "source": [
        "data_loader = DataLoader(dataset = CIFAR10_train, batch_size = batch_size, shuffle = True,drop_last = True)\n",
        "test_loader = DataLoader(dataset = CIFAR10_test, batch_size = batch_size, shuffle = False,drop_last = True)\n"
      ]
    },
    {
      "cell_type": "code",
      "source": [
        "len(CIFAR10_train.classes)"
      ],
      "metadata": {
        "colab": {
          "base_uri": "https://localhost:8080/"
        },
        "id": "_nUmk5VW7s2L",
        "outputId": "3223a3dc-dda0-47a2-9b32-4b2c1dfd213c"
      },
      "execution_count": 6,
      "outputs": [
        {
          "output_type": "execute_result",
          "data": {
            "text/plain": [
              "10"
            ]
          },
          "metadata": {},
          "execution_count": 6
        }
      ]
    },
    {
      "cell_type": "code",
      "execution_count": 7,
      "metadata": {
        "id": "REGsUGBw6w9V"
      },
      "outputs": [],
      "source": [
        "class VGG19(nn.Module):\n",
        "  def __init__(self, init_weights = True):\n",
        "    super(VGG19, self).__init__()\n",
        "    self.conv = nn.Sequential(\n",
        "        nn.Conv2d(in_channels = 3,out_channels = 64,kernel_size = 3, stride = 1, padding = 1),\n",
        "        nn.ReLU(),\n",
        "        nn.Conv2d(in_channels = 64,out_channels = 64,kernel_size = 3, stride = 1, padding = 1),\n",
        "        nn.ReLU(),\n",
        "        nn.Conv2d(in_channels = 64,out_channels = 128,kernel_size = 3, stride = 1, padding = 1),\n",
        "        nn.ReLU(),\n",
        "        nn.Conv2d(in_channels =128,out_channels = 128,kernel_size = 3, stride = 1, padding = 1),\n",
        "        nn.ReLU(),\n",
        "        nn.MaxPool2d(2,2),\n",
        "        nn.Conv2d(in_channels = 128,out_channels = 256,kernel_size = 3, stride = 1, padding = 1),\n",
        "        nn.ReLU(),\n",
        "        nn.Conv2d(in_channels =256,out_channels = 256,kernel_size = 3, stride = 1, padding = 1),\n",
        "        nn.ReLU(),\n",
        "        nn.Conv2d(in_channels =256,out_channels = 256,kernel_size = 3, stride = 1, padding = 1),\n",
        "        nn.ReLU(),\n",
        "        nn.Conv2d(in_channels =256,out_channels = 256,kernel_size = 3, stride = 1, padding = 1),\n",
        "        nn.ReLU(),\n",
        "        nn.MaxPool2d(2,2),\n",
        "        nn.Conv2d(in_channels =256,out_channels = 512,kernel_size = 3, stride = 1, padding = 1),\n",
        "        nn.ReLU(),\n",
        "        nn.Conv2d(in_channels =512,out_channels = 512,kernel_size = 3, stride = 1, padding = 1),\n",
        "        nn.ReLU(),\n",
        "        nn.Conv2d(in_channels =512,out_channels = 512,kernel_size = 3, stride = 1, padding = 1),\n",
        "        nn.ReLU(),\n",
        "        nn.Conv2d(in_channels =512,out_channels = 512,kernel_size = 3, stride = 1, padding = 1),\n",
        "        nn.ReLU(),\n",
        "        nn.MaxPool2d(2,2),\n",
        "        nn.Conv2d(in_channels =512,out_channels = 512,kernel_size = 3, stride = 1, padding = 1),\n",
        "        nn.ReLU(),\n",
        "        nn.Conv2d(in_channels =512,out_channels = 512,kernel_size = 3, stride = 1, padding = 1),\n",
        "        nn.ReLU(),\n",
        "        nn.Conv2d(in_channels =512,out_channels = 512,kernel_size = 3, stride = 1, padding = 1),\n",
        "        nn.ReLU(),\n",
        "        nn.Conv2d(in_channels =512,out_channels = 512,kernel_size = 3, stride = 1, padding = 1),\n",
        "        nn.ReLU(),\n",
        "        nn.MaxPool2d(2,2)\n",
        "        )\n",
        "    \n",
        "    #self.avgpool = nn.AdaptiveAvgPool2d(7)\n",
        "\n",
        "    if init_weights: \n",
        "      self._initialize_weights()\n",
        "    \n",
        "    self.classfier = nn.Sequential(\n",
        "    nn.Linear(2*2*512,4096),\n",
        "    nn.ReLU(True),\n",
        "    nn.Dropout(0.5), \n",
        "    nn.Linear(4096,4096),\n",
        "    nn.ReLU(True),\n",
        "    nn.Dropout(0.5), \n",
        "    nn.Linear(4096,10)\n",
        "    )\n",
        "  \n",
        "  \n",
        "\n",
        "\n",
        "  def forward(self, x):\n",
        "    out = self.conv(x)\n",
        "    #out = self.avgpool(out)\n",
        "    out = out.view(out.size(0),-1)\n",
        "    out = self.classfier(out)\n",
        "    return out\n",
        "#https://blog.naver.com/PostView.naver?blogId=mmmy2513&logNo=222300615187\n",
        "#https://blogofth-lee.tistory.com/265?category=872318\n",
        "  def _initialize_weights(self): \n",
        "    for m in self.modules(): \n",
        "      if isinstance(m, nn.Conv2d): \n",
        "        nn.init.kaiming_normal_(m.weight, mode='fan_out', nonlinearity='relu') \n",
        "        if m.bias is not None: \n",
        "          nn.init.constant_(m.bias, 0) \n",
        "      elif isinstance(m, nn.BatchNorm2d): \n",
        "        nn.init.constant_(m.weight, 1) \n",
        "        nn.init.constant_(m.bias, 0) \n",
        "      elif isinstance(m, nn.Linear): \n",
        "        nn.init.normal_(m.weight,0,0.01) \n",
        "        nn.init.constant_(m.bias, 0)\n",
        "\n"
      ]
    },
    {
      "cell_type": "code",
      "execution_count": 8,
      "metadata": {
        "id": "Q4EEjyCYAB8_",
        "colab": {
          "base_uri": "https://localhost:8080/"
        },
        "outputId": "3877f481-6277-4888-bd93-1ca42ce4951c"
      },
      "outputs": [
        {
          "output_type": "stream",
          "name": "stdout",
          "text": [
            "----------------------------------------------------------------\n",
            "        Layer (type)               Output Shape         Param #\n",
            "================================================================\n",
            "            Conv2d-1           [-1, 64, 32, 32]           1,792\n",
            "              ReLU-2           [-1, 64, 32, 32]               0\n",
            "            Conv2d-3           [-1, 64, 32, 32]          36,928\n",
            "              ReLU-4           [-1, 64, 32, 32]               0\n",
            "            Conv2d-5          [-1, 128, 32, 32]          73,856\n",
            "              ReLU-6          [-1, 128, 32, 32]               0\n",
            "            Conv2d-7          [-1, 128, 32, 32]         147,584\n",
            "              ReLU-8          [-1, 128, 32, 32]               0\n",
            "         MaxPool2d-9          [-1, 128, 16, 16]               0\n",
            "           Conv2d-10          [-1, 256, 16, 16]         295,168\n",
            "             ReLU-11          [-1, 256, 16, 16]               0\n",
            "           Conv2d-12          [-1, 256, 16, 16]         590,080\n",
            "             ReLU-13          [-1, 256, 16, 16]               0\n",
            "           Conv2d-14          [-1, 256, 16, 16]         590,080\n",
            "             ReLU-15          [-1, 256, 16, 16]               0\n",
            "           Conv2d-16          [-1, 256, 16, 16]         590,080\n",
            "             ReLU-17          [-1, 256, 16, 16]               0\n",
            "        MaxPool2d-18            [-1, 256, 8, 8]               0\n",
            "           Conv2d-19            [-1, 512, 8, 8]       1,180,160\n",
            "             ReLU-20            [-1, 512, 8, 8]               0\n",
            "           Conv2d-21            [-1, 512, 8, 8]       2,359,808\n",
            "             ReLU-22            [-1, 512, 8, 8]               0\n",
            "           Conv2d-23            [-1, 512, 8, 8]       2,359,808\n",
            "             ReLU-24            [-1, 512, 8, 8]               0\n",
            "           Conv2d-25            [-1, 512, 8, 8]       2,359,808\n",
            "             ReLU-26            [-1, 512, 8, 8]               0\n",
            "        MaxPool2d-27            [-1, 512, 4, 4]               0\n",
            "           Conv2d-28            [-1, 512, 4, 4]       2,359,808\n",
            "             ReLU-29            [-1, 512, 4, 4]               0\n",
            "           Conv2d-30            [-1, 512, 4, 4]       2,359,808\n",
            "             ReLU-31            [-1, 512, 4, 4]               0\n",
            "           Conv2d-32            [-1, 512, 4, 4]       2,359,808\n",
            "             ReLU-33            [-1, 512, 4, 4]               0\n",
            "           Conv2d-34            [-1, 512, 4, 4]       2,359,808\n",
            "             ReLU-35            [-1, 512, 4, 4]               0\n",
            "        MaxPool2d-36            [-1, 512, 2, 2]               0\n",
            "           Linear-37                 [-1, 4096]       8,392,704\n",
            "             ReLU-38                 [-1, 4096]               0\n",
            "          Dropout-39                 [-1, 4096]               0\n",
            "           Linear-40                 [-1, 4096]      16,781,312\n",
            "             ReLU-41                 [-1, 4096]               0\n",
            "          Dropout-42                 [-1, 4096]               0\n",
            "           Linear-43                   [-1, 10]          40,970\n",
            "================================================================\n",
            "Total params: 45,239,370\n",
            "Trainable params: 45,239,370\n",
            "Non-trainable params: 0\n",
            "----------------------------------------------------------------\n",
            "Input size (MB): 0.01\n",
            "Forward/backward pass size (MB): 13.14\n",
            "Params size (MB): 172.57\n",
            "Estimated Total Size (MB): 185.73\n",
            "----------------------------------------------------------------\n"
          ]
        }
      ],
      "source": [
        "model = VGG19().to(device)\n",
        "criterion = nn.CrossEntropyLoss().to(device)\n",
        "optimizer = optim.SGD(model.parameters(),lr = 0.01,momentum = 0.9)\n",
        "lr_sche = optim.lr_scheduler.StepLR(optimizer, step_size = 5, gamma =0.9)\n",
        "\n",
        "summary(model, input_size = (3,32,32))"
      ]
    },
    {
      "cell_type": "code",
      "execution_count": 9,
      "metadata": {
        "colab": {
          "base_uri": "https://localhost:8080/"
        },
        "id": "2k2GJJa2AbbC",
        "outputId": "9acc462a-0840-4aba-97ad-18cb86ebc937"
      },
      "outputs": [
        {
          "output_type": "stream",
          "name": "stdout",
          "text": [
            "250\n"
          ]
        }
      ],
      "source": [
        "total_batch = len(data_loader)\n",
        "print(total_batch)"
      ]
    },
    {
      "cell_type": "code",
      "execution_count": 11,
      "metadata": {
        "colab": {
          "base_uri": "https://localhost:8080/"
        },
        "id": "_98Q6nHYAoUW",
        "outputId": "6de21415-99aa-4497-ccf9-d6293c3c9716"
      },
      "outputs": [
        {
          "output_type": "stream",
          "name": "stdout",
          "text": [
            "acc: 10 %\n",
            "[Epoch:    1] cost = 2.29285479\n",
            "acc: 23 %\n",
            "[Epoch:    2] cost = 2.03493237\n",
            "acc: 27 %\n",
            "[Epoch:    3] cost = 1.68832028\n",
            "acc: 32 %\n",
            "[Epoch:    4] cost = 1.48744476\n",
            "acc: 36 %\n",
            "[Epoch:    5] cost = 1.29435456\n",
            "acc: 39 %\n",
            "[Epoch:    6] cost = 1.14335072\n",
            "acc: 42 %\n",
            "[Epoch:    7] cost = 1.00913\n",
            "acc: 45 %\n",
            "[Epoch:    8] cost = 0.869980097\n",
            "acc: 47 %\n",
            "[Epoch:    9] cost = 0.762465894\n",
            "acc: 49 %\n",
            "[Epoch:   10] cost = 0.649749994\n",
            "acc: 51 %\n",
            "[Epoch:   11] cost = 0.551433861\n",
            "acc: 52 %\n",
            "[Epoch:   12] cost = 0.456689119\n",
            "acc: 54 %\n",
            "[Epoch:   13] cost = 0.387600482\n",
            "acc: 55 %\n",
            "[Epoch:   14] cost = 0.318669438\n",
            "acc: 56 %\n",
            "[Epoch:   15] cost = 0.259145707\n",
            "acc: 57 %\n",
            "[Epoch:   16] cost = 0.205079719\n",
            "acc: 58 %\n",
            "[Epoch:   17] cost = 0.176569045\n",
            "acc: 59 %\n",
            "[Epoch:   18] cost = 0.155517384\n",
            "acc: 60 %\n",
            "[Epoch:   19] cost = 0.135324061\n",
            "acc: 61 %\n",
            "[Epoch:   20] cost = 0.104190595\n",
            "acc: 61 %\n",
            "[Epoch:   21] cost = 0.0849440992\n",
            "acc: 62 %\n",
            "[Epoch:   22] cost = 0.0784340203\n",
            "acc: 62 %\n",
            "[Epoch:   23] cost = 0.0677901953\n",
            "acc: 63 %\n",
            "[Epoch:   24] cost = 0.0582671836\n",
            "acc: 63 %\n",
            "[Epoch:   25] cost = 0.0619648769\n",
            "acc: 64 %\n",
            "[Epoch:   26] cost = 0.0565591492\n",
            "acc: 64 %\n",
            "[Epoch:   27] cost = 0.0401464365\n",
            "acc: 65 %\n",
            "[Epoch:   28] cost = 0.0495828614\n",
            "acc: 65 %\n",
            "[Epoch:   29] cost = 0.0358816348\n",
            "acc: 65 %\n",
            "[Epoch:   30] cost = 0.0354513936\n"
          ]
        }
      ],
      "source": [
        "correct = 0\n",
        "total = 0\n",
        "cor = 0\n",
        "acc = []\n",
        "loss_graph = []\n",
        "training_epochs = 30\n",
        "\n",
        "for epoch in range(training_epochs):\n",
        "    avg_cost = 0\n",
        "\n",
        "\n",
        "    for i , data in enumerate(data_loader, 0):\n",
        "      X, Y = data\n",
        "      X = X.to(device)\n",
        "      Y = Y.to(device)\n",
        "     \n",
        "      hypothesis = model(X)\n",
        "      cost = criterion(hypothesis, Y)\n",
        "      optimizer.zero_grad()\n",
        "      cost.backward()\n",
        "      optimizer.step()\n",
        "      avg_cost += cost / total_batch\n",
        "    \n",
        "    loss_graph.append(avg_cost)\n",
        "    with torch.no_grad():\n",
        "      for data in test_loader:\n",
        "        images, labels = data\n",
        "        images = images.to(device)\n",
        "        labels = labels.to(device)\n",
        "        outputs = model(images)\n",
        "        _, predicted = torch.max(outputs.data,1)\n",
        "\n",
        "      total += labels.size(0)\n",
        "      correct += (predicted == labels).sum().item()\n",
        "      cor = 100*correct/total\n",
        "      acc.append(cor)\n",
        "    print('acc: %d %%' % (100*correct/total))\n",
        "    print('[Epoch: {:>4}] cost = {:>.9}'.format(epoch + 1, avg_cost))\n",
        "\n"
      ]
    },
    {
      "cell_type": "code",
      "source": [
        "loss_graph_2 = torch.as_tensor(loss_graph,device='cpu')\n",
        "acc_2 = torch.as_tensor(acc,device='cpu')"
      ],
      "metadata": {
        "id": "QYTFwGUNuHCb"
      },
      "execution_count": 12,
      "outputs": []
    },
    {
      "cell_type": "code",
      "source": [
        "plt.plot(loss_graph_2)"
      ],
      "metadata": {
        "colab": {
          "base_uri": "https://localhost:8080/",
          "height": 284
        },
        "id": "76eJMrqxx2P3",
        "outputId": "ed137daf-3be1-4482-9259-da2a55014d44"
      },
      "execution_count": 13,
      "outputs": [
        {
          "output_type": "execute_result",
          "data": {
            "text/plain": [
              "[<matplotlib.lines.Line2D at 0x7f88d07c6f90>]"
            ]
          },
          "metadata": {},
          "execution_count": 13
        },
        {
          "output_type": "display_data",
          "data": {
            "image/png": "[encoded data removed]",
            "text/plain": [
              "<Figure size 432x288 with 1 Axes>"
            ]
          },
          "metadata": {
            "needs_background": "light"
          }
        }
      ]
    },
    {
      "cell_type": "code",
      "source": [
        "plt.plot(acc)"
      ],
      "metadata": {
        "colab": {
          "base_uri": "https://localhost:8080/",
          "height": 284
        },
        "id": "Sl-Og8DXBGGg",
        "outputId": "1cbb64ce-5aa0-42fe-aa70-b3ef661eac6d"
      },
      "execution_count": 14,
      "outputs": [
        {
          "output_type": "execute_result",
          "data": {
            "text/plain": [
              "[<matplotlib.lines.Line2D at 0x7f88d0818c50>]"
            ]
          },
          "metadata": {},
          "execution_count": 14
        },
        {
          "output_type": "display_data",
          "data": {
            "image/png": "[encoded data removed]",
            "text/plain": [
              "<Figure size 432x288 with 1 Axes>"
            ]
          },
          "metadata": {
            "needs_background": "light"
          }
        }
      ]
    },
    {
      "cell_type": "code",
      "execution_count": 15,
      "metadata": {
        "colab": {
          "base_uri": "https://localhost:8080/"
        },
        "id": "n9xX0hcPEjMH",
        "outputId": "87e77bfd-634d-4eda-fa6e-1c9c423b0b9e"
      },
      "outputs": [
        {
          "output_type": "stream",
          "name": "stdout",
          "text": [
            "acc: 72 %\n"
          ]
        }
      ],
      "source": [
        "correct = 0\n",
        "total = 0\n",
        "cor = 0\n",
        "acc = []\n",
        "\n",
        "with torch.no_grad():\n",
        "  for data in test_loader:\n",
        "    images, labels = data\n",
        "    images = images.to(device)\n",
        "    labels = labels.to(device)\n",
        "    outputs = model(images)\n",
        "    _, predicted = torch.max(outputs.data,1)\n",
        "\n",
        "  total += labels.size(0)\n",
        "  correct += (predicted == labels).sum().item()\n",
        "  cor = 100*correct/total\n",
        "  print('acc: %d %%' % (100*correct/total))"
      ]
    }
  ],
  "metadata": {
    "accelerator": "GPU",
    "colab": {
      "collapsed_sections": [],
      "name": "VGG19_CIFAR10",
      "provenance": [],
      "include_colab_link": true
    },
    "kernelspec": {
      "display_name": "Python 3",
      "name": "python3"
    },
    "language_info": {
      "name": "python"
    },
    "widgets": {
      "application/vnd.jupyter.widget-state+json": {
        "2383f7a5bd144cf991919b559812ffdf": {
          "model_module": "@jupyter-widgets/controls",
          "model_name": "HBoxModel",
          "model_module_version": "1.5.0",
          "state": {
            "_view_name": "HBoxView",
            "_dom_classes": [],
            "_model_name": "HBoxModel",
            "_view_module": "@jupyter-widgets/controls",
            "_model_module_version": "1.5.0",
            "_view_count": null,
            "_view_module_version": "1.5.0",
            "box_style": "",
            "layout": "IPY_MODEL_4b47fa894e22438ea42969d8cd448970",
            "_model_module": "@jupyter-widgets/controls",
            "children": [
              "IPY_MODEL_affd021788a64f34a0bb163ad3f4f50d",
              "IPY_MODEL_272a6d0f542248cea512822463832532",
              "IPY_MODEL_9544b913611d42079d864476d33e4a0f"
            ]
          }
        },
        "4b47fa894e22438ea42969d8cd448970": {
          "model_module": "@jupyter-widgets/base",
          "model_name": "LayoutModel",
          "model_module_version": "1.2.0",
          "state": {
            "_view_name": "LayoutView",
            "grid_template_rows": null,
            "right": null,
            "justify_content": null,
            "_view_module": "@jupyter-widgets/base",
            "overflow": null,
            "_model_module_version": "1.2.0",
            "_view_count": null,
            "flex_flow": null,
            "width": null,
            "min_width": null,
            "border": null,
            "align_items": null,
            "bottom": null,
            "_model_module": "@jupyter-widgets/base",
            "top": null,
            "grid_column": null,
            "overflow_y": null,
            "overflow_x": null,
            "grid_auto_flow": null,
            "grid_area": null,
            "grid_template_columns": null,
            "flex": null,
            "_model_name": "LayoutModel",
            "justify_items": null,
            "grid_row": null,
            "max_height": null,
            "align_content": null,
            "visibility": null,
            "align_self": null,
            "height": null,
            "min_height": null,
            "padding": null,
            "grid_auto_rows": null,
            "grid_gap": null,
            "max_width": null,
            "order": null,
            "_view_module_version": "1.2.0",
            "grid_template_areas": null,
            "object_position": null,
            "object_fit": null,
            "grid_auto_columns": null,
            "margin": null,
            "display": null,
            "left": null
          }
        },
        "affd021788a64f34a0bb163ad3f4f50d": {
          "model_module": "@jupyter-widgets/controls",
          "model_name": "HTMLModel",
          "model_module_version": "1.5.0",
          "state": {
            "_view_name": "HTMLView",
            "style": "IPY_MODEL_6f475db2b21f4a81ab884a8c42099f13",
            "_dom_classes": [],
            "description": "",
            "_model_name": "HTMLModel",
            "placeholder": "​",
            "_view_module": "@jupyter-widgets/controls",
            "_model_module_version": "1.5.0",
            "value": "",
            "_view_count": null,
            "_view_module_version": "1.5.0",
            "description_tooltip": null,
            "_model_module": "@jupyter-widgets/controls",
            "layout": "IPY_MODEL_0806703bc3d843eeb62274783210f964"
          }
        },
        "272a6d0f542248cea512822463832532": {
          "model_module": "@jupyter-widgets/controls",
          "model_name": "FloatProgressModel",
          "model_module_version": "1.5.0",
          "state": {
            "_view_name": "ProgressView",
            "style": "IPY_MODEL_5e4e772e9fc14b648e8c5c39434a3d94",
            "_dom_classes": [],
            "description": "",
            "_model_name": "FloatProgressModel",
            "bar_style": "success",
            "max": 170498071,
            "_view_module": "@jupyter-widgets/controls",
            "_model_module_version": "1.5.0",
            "value": 170498071,
            "_view_count": null,
            "_view_module_version": "1.5.0",
            "orientation": "horizontal",
            "min": 0,
            "description_tooltip": null,
            "_model_module": "@jupyter-widgets/controls",
            "layout": "IPY_MODEL_a60f7e7487ff49f2b853717ffab5c6ac"
          }
        },
        "9544b913611d42079d864476d33e4a0f": {
          "model_module": "@jupyter-widgets/controls",
          "model_name": "HTMLModel",
          "model_module_version": "1.5.0",
          "state": {
            "_view_name": "HTMLView",
            "style": "IPY_MODEL_a3101e5054124e1ba2dde272f5f4e267",
            "_dom_classes": [],
            "description": "",
            "_model_name": "HTMLModel",
            "placeholder": "​",
            "_view_module": "@jupyter-widgets/controls",
            "_model_module_version": "1.5.0",
            "value": " 170499072/? [00:03&lt;00:00, 53659011.34it/s]",
            "_view_count": null,
            "_view_module_version": "1.5.0",
            "description_tooltip": null,
            "_model_module": "@jupyter-widgets/controls",
            "layout": "IPY_MODEL_1ad50a739bd74119855e7ac46a15ca3b"
          }
        },
        "6f475db2b21f4a81ab884a8c42099f13": {
          "model_module": "@jupyter-widgets/controls",
          "model_name": "DescriptionStyleModel",
          "model_module_version": "1.5.0",
          "state": {
            "_view_name": "StyleView",
            "_model_name": "DescriptionStyleModel",
            "description_width": "",
            "_view_module": "@jupyter-widgets/base",
            "_model_module_version": "1.5.0",
            "_view_count": null,
            "_view_module_version": "1.2.0",
            "_model_module": "@jupyter-widgets/controls"
          }
        },
        "0806703bc3d843eeb62274783210f964": {
          "model_module": "@jupyter-widgets/base",
          "model_name": "LayoutModel",
          "model_module_version": "1.2.0",
          "state": {
            "_view_name": "LayoutView",
            "grid_template_rows": null,
            "right": null,
            "justify_content": null,
            "_view_module": "@jupyter-widgets/base",
            "overflow": null,
            "_model_module_version": "1.2.0",
            "_view_count": null,
            "flex_flow": null,
            "width": null,
            "min_width": null,
            "border": null,
            "align_items": null,
            "bottom": null,
            "_model_module": "@jupyter-widgets/base",
            "top": null,
            "grid_column": null,
            "overflow_y": null,
            "overflow_x": null,
            "grid_auto_flow": null,
            "grid_area": null,
            "grid_template_columns": null,
            "flex": null,
            "_model_name": "LayoutModel",
            "justify_items": null,
            "grid_row": null,
            "max_height": null,
            "align_content": null,
            "visibility": null,
            "align_self": null,
            "height": null,
            "min_height": null,
            "padding": null,
            "grid_auto_rows": null,
            "grid_gap": null,
            "max_width": null,
            "order": null,
            "_view_module_version": "1.2.0",
            "grid_template_areas": null,
            "object_position": null,
            "object_fit": null,
            "grid_auto_columns": null,
            "margin": null,
            "display": null,
            "left": null
          }
        },
        "5e4e772e9fc14b648e8c5c39434a3d94": {
          "model_module": "@jupyter-widgets/controls",
          "model_name": "ProgressStyleModel",
          "model_module_version": "1.5.0",
          "state": {
            "_view_name": "StyleView",
            "_model_name": "ProgressStyleModel",
            "description_width": "",
            "_view_module": "@jupyter-widgets/base",
            "_model_module_version": "1.5.0",
            "_view_count": null,
            "_view_module_version": "1.2.0",
            "bar_color": null,
            "_model_module": "@jupyter-widgets/controls"
          }
        },
        "a60f7e7487ff49f2b853717ffab5c6ac": {
          "model_module": "@jupyter-widgets/base",
          "model_name": "LayoutModel",
          "model_module_version": "1.2.0",
          "state": {
            "_view_name": "LayoutView",
            "grid_template_rows": null,
            "right": null,
            "justify_content": null,
            "_view_module": "@jupyter-widgets/base",
            "overflow": null,
            "_model_module_version": "1.2.0",
            "_view_count": null,
            "flex_flow": null,
            "width": null,
            "min_width": null,
            "border": null,
            "align_items": null,
            "bottom": null,
            "_model_module": "@jupyter-widgets/base",
            "top": null,
            "grid_column": null,
            "overflow_y": null,
            "overflow_x": null,
            "grid_auto_flow": null,
            "grid_area": null,
            "grid_template_columns": null,
            "flex": null,
            "_model_name": "LayoutModel",
            "justify_items": null,
            "grid_row": null,
            "max_height": null,
            "align_content": null,
            "visibility": null,
            "align_self": null,
            "height": null,
            "min_height": null,
            "padding": null,
            "grid_auto_rows": null,
            "grid_gap": null,
            "max_width": null,
            "order": null,
            "_view_module_version": "1.2.0",
            "grid_template_areas": null,
            "object_position": null,
            "object_fit": null,
            "grid_auto_columns": null,
            "margin": null,
            "display": null,
            "left": null
          }
        },
        "a3101e5054124e1ba2dde272f5f4e267": {
          "model_module": "@jupyter-widgets/controls",
          "model_name": "DescriptionStyleModel",
          "model_module_version": "1.5.0",
          "state": {
            "_view_name": "StyleView",
            "_model_name": "DescriptionStyleModel",
            "description_width": "",
            "_view_module": "@jupyter-widgets/base",
            "_model_module_version": "1.5.0",
            "_view_count": null,
            "_view_module_version": "1.2.0",
            "_model_module": "@jupyter-widgets/controls"
          }
        },
        "1ad50a739bd74119855e7ac46a15ca3b": {
          "model_module": "@jupyter-widgets/base",
          "model_name": "LayoutModel",
          "model_module_version": "1.2.0",
          "state": {
            "_view_name": "LayoutView",
            "grid_template_rows": null,
            "right": null,
            "justify_content": null,
            "_view_module": "@jupyter-widgets/base",
            "overflow": null,
            "_model_module_version": "1.2.0",
            "_view_count": null,
            "flex_flow": null,
            "width": null,
            "min_width": null,
            "border": null,
            "align_items": null,
            "bottom": null,
            "_model_module": "@jupyter-widgets/base",
            "top": null,
            "grid_column": null,
            "overflow_y": null,
            "overflow_x": null,
            "grid_auto_flow": null,
            "grid_area": null,
            "grid_template_columns": null,
            "flex": null,
            "_model_name": "LayoutModel",
            "justify_items": null,
            "grid_row": null,
            "max_height": null,
            "align_content": null,
            "visibility": null,
            "align_self": null,
            "height": null,
            "min_height": null,
            "padding": null,
            "grid_auto_rows": null,
            "grid_gap": null,
            "max_width": null,
            "order": null,
            "_view_module_version": "1.2.0",
            "grid_template_areas": null,
            "object_position": null,
            "object_fit": null,
            "grid_auto_columns": null,
            "margin": null,
            "display": null,
            "left": null
          }
        },
        "e0d8c83985a64f2eaf80efa46b4dbe58": {
          "model_module": "@jupyter-widgets/controls",
          "model_name": "HBoxModel",
          "model_module_version": "1.5.0",
          "state": {
            "_view_name": "HBoxView",
            "_dom_classes": [],
            "_model_name": "HBoxModel",
            "_view_module": "@jupyter-widgets/controls",
            "_model_module_version": "1.5.0",
            "_view_count": null,
            "_view_module_version": "1.5.0",
            "box_style": "",
            "layout": "IPY_MODEL_4bb03fa3f74544dbbdb62e9768f2fc74",
            "_model_module": "@jupyter-widgets/controls",
            "children": [
              "IPY_MODEL_6a6418ccfd40472a896570d368b336be",
              "IPY_MODEL_fd5f34385d574d3d843239356d047ff6",
              "IPY_MODEL_099803a8d0964c2fb2bef3d28de1f2e3"
            ]
          }
        },
        "4bb03fa3f74544dbbdb62e9768f2fc74": {
          "model_module": "@jupyter-widgets/base",
          "model_name": "LayoutModel",
          "model_module_version": "1.2.0",
          "state": {
            "_view_name": "LayoutView",
            "grid_template_rows": null,
            "right": null,
            "justify_content": null,
            "_view_module": "@jupyter-widgets/base",
            "overflow": null,
            "_model_module_version": "1.2.0",
            "_view_count": null,
            "flex_flow": null,
            "width": null,
            "min_width": null,
            "border": null,
            "align_items": null,
            "bottom": null,
            "_model_module": "@jupyter-widgets/base",
            "top": null,
            "grid_column": null,
            "overflow_y": null,
            "overflow_x": null,
            "grid_auto_flow": null,
            "grid_area": null,
            "grid_template_columns": null,
            "flex": null,
            "_model_name": "LayoutModel",
            "justify_items": null,
            "grid_row": null,
            "max_height": null,
            "align_content": null,
            "visibility": null,
            "align_self": null,
            "height": null,
            "min_height": null,
            "padding": null,
            "grid_auto_rows": null,
            "grid_gap": null,
            "max_width": null,
            "order": null,
            "_view_module_version": "1.2.0",
            "grid_template_areas": null,
            "object_position": null,
            "object_fit": null,
            "grid_auto_columns": null,
            "margin": null,
            "display": null,
            "left": null
          }
        },
        "6a6418ccfd40472a896570d368b336be": {
          "model_module": "@jupyter-widgets/controls",
          "model_name": "HTMLModel",
          "model_module_version": "1.5.0",
          "state": {
            "_view_name": "HTMLView",
            "style": "IPY_MODEL_492448577d534d88845579d85474f7bc",
            "_dom_classes": [],
            "description": "",
            "_model_name": "HTMLModel",
            "placeholder": "​",
            "_view_module": "@jupyter-widgets/controls",
            "_model_module_version": "1.5.0",
            "value": "",
            "_view_count": null,
            "_view_module_version": "1.5.0",
            "description_tooltip": null,
            "_model_module": "@jupyter-widgets/controls",
            "layout": "IPY_MODEL_8523fc2f2bae4217b31b5b32fce917ef"
          }
        },
        "fd5f34385d574d3d843239356d047ff6": {
          "model_module": "@jupyter-widgets/controls",
          "model_name": "FloatProgressModel",
          "model_module_version": "1.5.0",
          "state": {
            "_view_name": "ProgressView",
            "style": "IPY_MODEL_eecc6bf8d1814fce884c1ef5fdef81c4",
            "_dom_classes": [],
            "description": "",
            "_model_name": "FloatProgressModel",
            "bar_style": "success",
            "max": 170498071,
            "_view_module": "@jupyter-widgets/controls",
            "_model_module_version": "1.5.0",
            "value": 170498071,
            "_view_count": null,
            "_view_module_version": "1.5.0",
            "orientation": "horizontal",
            "min": 0,
            "description_tooltip": null,
            "_model_module": "@jupyter-widgets/controls",
            "layout": "IPY_MODEL_0803e160bb54485e97d11377070f9430"
          }
        },
        "099803a8d0964c2fb2bef3d28de1f2e3": {
          "model_module": "@jupyter-widgets/controls",
          "model_name": "HTMLModel",
          "model_module_version": "1.5.0",
          "state": {
            "_view_name": "HTMLView",
            "style": "IPY_MODEL_b64a36cb8f8a4a3fb324a8c4a319a3ce",
            "_dom_classes": [],
            "description": "",
            "_model_name": "HTMLModel",
            "placeholder": "​",
            "_view_module": "@jupyter-widgets/controls",
            "_model_module_version": "1.5.0",
            "value": " 170499072/? [00:03&lt;00:00, 52170878.18it/s]",
            "_view_count": null,
            "_view_module_version": "1.5.0",
            "description_tooltip": null,
            "_model_module": "@jupyter-widgets/controls",
            "layout": "IPY_MODEL_a1b02e5bbccd4e9fa82d5755bb740a3c"
          }
        },
        "492448577d534d88845579d85474f7bc": {
          "model_module": "@jupyter-widgets/controls",
          "model_name": "DescriptionStyleModel",
          "model_module_version": "1.5.0",
          "state": {
            "_view_name": "StyleView",
            "_model_name": "DescriptionStyleModel",
            "description_width": "",
            "_view_module": "@jupyter-widgets/base",
            "_model_module_version": "1.5.0",
            "_view_count": null,
            "_view_module_version": "1.2.0",
            "_model_module": "@jupyter-widgets/controls"
          }
        },
        "8523fc2f2bae4217b31b5b32fce917ef": {
          "model_module": "@jupyter-widgets/base",
          "model_name": "LayoutModel",
          "model_module_version": "1.2.0",
          "state": {
            "_view_name": "LayoutView",
            "grid_template_rows": null,
            "right": null,
            "justify_content": null,
            "_view_module": "@jupyter-widgets/base",
            "overflow": null,
            "_model_module_version": "1.2.0",
            "_view_count": null,
            "flex_flow": null,
            "width": null,
            "min_width": null,
            "border": null,
            "align_items": null,
            "bottom": null,
            "_model_module": "@jupyter-widgets/base",
            "top": null,
            "grid_column": null,
            "overflow_y": null,
            "overflow_x": null,
            "grid_auto_flow": null,
            "grid_area": null,
            "grid_template_columns": null,
            "flex": null,
            "_model_name": "LayoutModel",
            "justify_items": null,
            "grid_row": null,
            "max_height": null,
            "align_content": null,
            "visibility": null,
            "align_self": null,
            "height": null,
            "min_height": null,
            "padding": null,
            "grid_auto_rows": null,
            "grid_gap": null,
            "max_width": null,
            "order": null,
            "_view_module_version": "1.2.0",
            "grid_template_areas": null,
            "object_position": null,
            "object_fit": null,
            "grid_auto_columns": null,
            "margin": null,
            "display": null,
            "left": null
          }
        },
        "eecc6bf8d1814fce884c1ef5fdef81c4": {
          "model_module": "@jupyter-widgets/controls",
          "model_name": "ProgressStyleModel",
          "model_module_version": "1.5.0",
          "state": {
            "_view_name": "StyleView",
            "_model_name": "ProgressStyleModel",
            "description_width": "",
            "_view_module": "@jupyter-widgets/base",
            "_model_module_version": "1.5.0",
            "_view_count": null,
            "_view_module_version": "1.2.0",
            "bar_color": null,
            "_model_module": "@jupyter-widgets/controls"
          }
        },
        "0803e160bb54485e97d11377070f9430": {
          "model_module": "@jupyter-widgets/base",
          "model_name": "LayoutModel",
          "model_module_version": "1.2.0",
          "state": {
            "_view_name": "LayoutView",
            "grid_template_rows": null,
            "right": null,
            "justify_content": null,
            "_view_module": "@jupyter-widgets/base",
            "overflow": null,
            "_model_module_version": "1.2.0",
            "_view_count": null,
            "flex_flow": null,
            "width": null,
            "min_width": null,
            "border": null,
            "align_items": null,
            "bottom": null,
            "_model_module": "@jupyter-widgets/base",
            "top": null,
            "grid_column": null,
            "overflow_y": null,
            "overflow_x": null,
            "grid_auto_flow": null,
            "grid_area": null,
            "grid_template_columns": null,
            "flex": null,
            "_model_name": "LayoutModel",
            "justify_items": null,
            "grid_row": null,
            "max_height": null,
            "align_content": null,
            "visibility": null,
            "align_self": null,
            "height": null,
            "min_height": null,
            "padding": null,
            "grid_auto_rows": null,
            "grid_gap": null,
            "max_width": null,
            "order": null,
            "_view_module_version": "1.2.0",
            "grid_template_areas": null,
            "object_position": null,
            "object_fit": null,
            "grid_auto_columns": null,
            "margin": null,
            "display": null,
            "left": null
          }
        },
        "b64a36cb8f8a4a3fb324a8c4a319a3ce": {
          "model_module": "@jupyter-widgets/controls",
          "model_name": "DescriptionStyleModel",
          "model_module_version": "1.5.0",
          "state": {
            "_view_name": "StyleView",
            "_model_name": "DescriptionStyleModel",
            "description_width": "",
            "_view_module": "@jupyter-widgets/base",
            "_model_module_version": "1.5.0",
            "_view_count": null,
            "_view_module_version": "1.2.0",
            "_model_module": "@jupyter-widgets/controls"
          }
        },
        "a1b02e5bbccd4e9fa82d5755bb740a3c": {
          "model_module": "@jupyter-widgets/base",
          "model_name": "LayoutModel",
          "model_module_version": "1.2.0",
          "state": {
            "_view_name": "LayoutView",
            "grid_template_rows": null,
            "right": null,
            "justify_content": null,
            "_view_module": "@jupyter-widgets/base",
            "overflow": null,
            "_model_module_version": "1.2.0",
            "_view_count": null,
            "flex_flow": null,
            "width": null,
            "min_width": null,
            "border": null,
            "align_items": null,
            "bottom": null,
            "_model_module": "@jupyter-widgets/base",
            "top": null,
            "grid_column": null,
            "overflow_y": null,
            "overflow_x": null,
            "grid_auto_flow": null,
            "grid_area": null,
            "grid_template_columns": null,
            "flex": null,
            "_model_name": "LayoutModel",
            "justify_items": null,
            "grid_row": null,
            "max_height": null,
            "align_content": null,
            "visibility": null,
            "align_self": null,
            "height": null,
            "min_height": null,
            "padding": null,
            "grid_auto_rows": null,
            "grid_gap": null,
            "max_width": null,
            "order": null,
            "_view_module_version": "1.2.0",
            "grid_template_areas": null,
            "object_position": null,
            "object_fit": null,
            "grid_auto_columns": null,
            "margin": null,
            "display": null,
            "left": null
          }
        }
      }
    }
  },
  "nbformat": 4,
  "nbformat_minor": 0
}