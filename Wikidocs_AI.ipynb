{
  "nbformat": 4,
  "nbformat_minor": 0,
  "metadata": {
    "colab": {
      "name": "Wikidocs AI.ipynb",
      "provenance": [],
      "collapsed_sections": [],
      "authorship_tag": "ABX9TyPFCDKMgI9CkTu37Hpr2IKS",
      "include_colab_link": true
    },
    "kernelspec": {
      "name": "python3",
      "display_name": "Python 3"
    },
    "language_info": {
      "name": "python"
    }
  },
  "cells": [
    {
      "cell_type": "markdown",
      "metadata": {
        "id": "view-in-github",
        "colab_type": "text"
      },
      "source": [
        "<a href=\"https://colab.research.google.com/github/Bo-kyoung/AI-practices/blob/main/Wikidocs_AI.ipynb\" target=\"_parent\"><img src=\"https://colab.research.google.com/assets/colab-badge.svg\" alt=\"Open In Colab\"/></a>"
      ]
    },
    {
      "cell_type": "code",
      "source": [
        "class Calculator:\n",
        "  def __init__(self):\n",
        "    self.result=0\n",
        "    print(\"선언완료\")\n",
        "  def add(self, num):\n",
        "    self.result += num\n",
        "    return self.result\n",
        "cal1= Calculator()\n",
        "cal2= Calculator()\n",
        "print(cal1.add(3))\n",
        "print(cal1.add(4))"
      ],
      "metadata": {
        "colab": {
          "base_uri": "https://localhost:8080/"
        },
        "id": "SXrytLxC_6wR",
        "outputId": "f051067d-8790-407e-dc94-4de1eacf20ab"
      },
      "execution_count": 31,
      "outputs": [
        {
          "output_type": "stream",
          "name": "stdout",
          "text": [
            "선언완료\n",
            "선언완료\n",
            "3\n",
            "7\n"
          ]
        }
      ]
    },
    {
      "cell_type": "code",
      "source": [
        "import torch\n",
        "import torch.nn as nn\n",
        "import torch.nn.functional as F\n",
        "import torch.optim as optim\n",
        "torch.manual_seed(1)\n",
        "x_train = torch.FloatTensor([1,2,3]).unsqueeze(1)\n",
        "y_train = torch.FloatTensor([2,4,6]).unsqueeze(1)\n",
        "\n",
        "W = torch.zeros(1, requires_grad=True) # X*W이므로 (1*1)\n",
        "b = torch.zeros(1, requires_grad=True) \n",
        "\n",
        "nb_epochs = 2999\n",
        "for epoch in range(nb_epochs + 1):\n",
        "  hypothesis = x_train.mul(W)+b \n",
        "\n",
        "\n",
        "  cost = torch.mean((hypothesis - y_train)**2)\n",
        "\n",
        "\n",
        "  optimizer = optim.SGD([W,b], lr = 0.01)\n",
        "  optimizer.zero_grad()\n",
        "  cost.backward() #기울기 연산(hypothesis에 초기 w, b대입, 계산, cost에 hypothesis 대입, 계산, 해서 w, b(required step TRUE 설정) return \n",
        "  optimizer.step() #learnin late 계산 해서 기울기를 빼줌\n",
        "\n",
        "  if epoch % 100 == 0:\n",
        "    print('Epoch {:4d}/{} W: {:.4f}, b: {:.3f} Cost: {:.6f}'.format(\n",
        "            epoch, nb_epochs, W.item(), b.item(), cost.item()\n",
        "        ))\n",
        "\n"
      ],
      "metadata": {
        "colab": {
          "base_uri": "https://localhost:8080/"
        },
        "id": "a-ngqSMrAZab",
        "outputId": "e29059d1-c343-4535-e86f-73250b5da5f2"
      },
      "execution_count": 59,
      "outputs": [
        {
          "output_type": "stream",
          "name": "stdout",
          "text": [
            "Epoch   0/2999 W: 0.1867, b: 0.080 Cost: 18.666666\n",
            "Epoch 100/2999 W: 1.7457, b: 0.578 Cost: 0.048171\n",
            "Epoch 200/2999 W: 1.8001, b: 0.454 Cost: 0.029767\n",
            "Epoch 300/2999 W: 1.8429, b: 0.357 Cost: 0.018394\n",
            "Epoch 400/2999 W: 1.8765, b: 0.281 Cost: 0.011366\n",
            "Epoch 500/2999 W: 1.9029, b: 0.221 Cost: 0.007024\n",
            "Epoch 600/2999 W: 1.9237, b: 0.174 Cost: 0.004340\n",
            "Epoch 700/2999 W: 1.9400, b: 0.136 Cost: 0.002682\n",
            "Epoch 800/2999 W: 1.9528, b: 0.107 Cost: 0.001657\n",
            "Epoch 900/2999 W: 1.9629, b: 0.084 Cost: 0.001024\n",
            "Epoch 1000/2999 W: 1.9709, b: 0.066 Cost: 0.000633\n",
            "Epoch 1100/2999 W: 1.9771, b: 0.052 Cost: 0.000391\n",
            "Epoch 1200/2999 W: 1.9820, b: 0.041 Cost: 0.000242\n",
            "Epoch 1300/2999 W: 1.9858, b: 0.032 Cost: 0.000149\n",
            "Epoch 1400/2999 W: 1.9889, b: 0.025 Cost: 0.000092\n",
            "Epoch 1500/2999 W: 1.9913, b: 0.020 Cost: 0.000057\n",
            "Epoch 1600/2999 W: 1.9931, b: 0.016 Cost: 0.000035\n",
            "Epoch 1700/2999 W: 1.9946, b: 0.012 Cost: 0.000022\n",
            "Epoch 1800/2999 W: 1.9958, b: 0.010 Cost: 0.000013\n",
            "Epoch 1900/2999 W: 1.9967, b: 0.008 Cost: 0.000008\n",
            "Epoch 2000/2999 W: 1.9974, b: 0.006 Cost: 0.000005\n",
            "Epoch 2100/2999 W: 1.9979, b: 0.005 Cost: 0.000003\n",
            "Epoch 2200/2999 W: 1.9984, b: 0.004 Cost: 0.000002\n",
            "Epoch 2300/2999 W: 1.9987, b: 0.003 Cost: 0.000001\n",
            "Epoch 2400/2999 W: 1.9990, b: 0.002 Cost: 0.000001\n",
            "Epoch 2500/2999 W: 1.9992, b: 0.002 Cost: 0.000000\n",
            "Epoch 2600/2999 W: 1.9994, b: 0.001 Cost: 0.000000\n",
            "Epoch 2700/2999 W: 1.9995, b: 0.001 Cost: 0.000000\n",
            "Epoch 2800/2999 W: 1.9996, b: 0.001 Cost: 0.000000\n",
            "Epoch 2900/2999 W: 1.9997, b: 0.001 Cost: 0.000000\n"
          ]
        }
      ]
    },
    {
      "cell_type": "code",
      "source": [
        "w = torch.tensor(2.0, requires_grad  = True)\n",
        "y = w**2\n",
        "z = 2*y + 5\n",
        "z.backward()\n",
        "print(w.grad) #미분한 수식: f(x) = 4w, w값은 2였으니 기울기는 8 "
      ],
      "metadata": {
        "colab": {
          "base_uri": "https://localhost:8080/"
        },
        "id": "k0qIMUIkUAqE",
        "outputId": "3e7c764a-a7f3-4645-ac44-3f00429787ea"
      },
      "execution_count": 61,
      "outputs": [
        {
          "output_type": "stream",
          "name": "stdout",
          "text": [
            "tensor(8.)\n"
          ]
        }
      ]
    },
    {
      "cell_type": "code",
      "source": [
        "torch.manual_seed(1)\n",
        "x1_train = torch.FloatTensor([[73], [93], [89], [96], [73]])\n",
        "x2_train = torch.FloatTensor([[80], [88], [91], [98], [66]])\n",
        "x3_train = torch.FloatTensor([[75], [93], [90], [100], [70]])\n",
        "y_train = torch.FloatTensor([[152], [185], [180], [196], [142]]) #feature가 3개(x의 개수 - dim이 3)\n",
        "\n",
        "w1 = torch.zeros(1, requires_grad=True)\n",
        "w2 = torch.zeros(1, requires_grad=True)\n",
        "w3 = torch.zeros(1, requires_grad=True)\n",
        "b = torch.zeros(1, requires_grad=True)\n",
        "\n",
        "# optimizer 설정\n",
        "optimizer = optim.SGD([w1, w2, w3, b], lr=1e-5)\n",
        "\n",
        "nb_epochs = 1000\n",
        "for epoch in range(nb_epochs + 1):\n",
        "\n",
        "    # H(x) 계산\n",
        "    hypothesis = x1_train * w1 + x2_train * w2 + x3_train * w3 + b\n",
        "\n",
        "    # cost 계산\n",
        "    cost = torch.mean((hypothesis - y_train) ** 2)\n",
        "\n",
        "    # cost로 H(x) 개선\n",
        "    optimizer.zero_grad()\n",
        "    cost.backward()\n",
        "    optimizer.step()\n",
        "\n",
        "    # 100번마다 로그 출력\n",
        "    if epoch % 100 == 0:\n",
        "        print('Epoch {:4d}/{} w1: {:.3f} w2: {:.3f} w3: {:.3f} b: {:.3f} Cost: {:.6f}'.format(\n",
        "            epoch, nb_epochs, w1.item(), w2.item(), w3.item(), b.item(), cost.item()\n",
        "        ))"
      ],
      "metadata": {
        "colab": {
          "base_uri": "https://localhost:8080/"
        },
        "id": "834EFKsqU1v_",
        "outputId": "23f094de-5874-4a63-e57d-fe126f64bdde"
      },
      "execution_count": 62,
      "outputs": [
        {
          "output_type": "stream",
          "name": "stdout",
          "text": [
            "Epoch    0/1000 w1: 0.294 w2: 0.294 w3: 0.297 b: 0.003 Cost: 29661.800781\n",
            "Epoch  100/1000 w1: 0.674 w2: 0.661 w3: 0.676 b: 0.008 Cost: 1.563628\n",
            "Epoch  200/1000 w1: 0.679 w2: 0.655 w3: 0.677 b: 0.008 Cost: 1.497595\n",
            "Epoch  300/1000 w1: 0.684 w2: 0.649 w3: 0.677 b: 0.008 Cost: 1.435044\n",
            "Epoch  400/1000 w1: 0.689 w2: 0.643 w3: 0.678 b: 0.008 Cost: 1.375726\n",
            "Epoch  500/1000 w1: 0.694 w2: 0.638 w3: 0.678 b: 0.009 Cost: 1.319507\n",
            "Epoch  600/1000 w1: 0.699 w2: 0.633 w3: 0.679 b: 0.009 Cost: 1.266222\n",
            "Epoch  700/1000 w1: 0.704 w2: 0.627 w3: 0.679 b: 0.009 Cost: 1.215703\n",
            "Epoch  800/1000 w1: 0.709 w2: 0.622 w3: 0.679 b: 0.009 Cost: 1.167810\n",
            "Epoch  900/1000 w1: 0.713 w2: 0.617 w3: 0.680 b: 0.009 Cost: 1.122429\n",
            "Epoch 1000/1000 w1: 0.718 w2: 0.613 w3: 0.680 b: 0.009 Cost: 1.079390\n"
          ]
        }
      ]
    },
    {
      "cell_type": "code",
      "source": [
        "x_train  =  torch.FloatTensor([[73,  80,  75], \n",
        "                               [93,  88,  93], \n",
        "                               [89,  91,  80], \n",
        "                               [96,  98,  100],   \n",
        "                               [73,  66,  70]])  \n",
        "y_train  =  torch.FloatTensor([[152],  [185],  [180],  [196],  [142]])\n",
        "\n",
        "W = torch.zeros((3,1), requires_grad = True )\n",
        "b = torch.zeros(1, requires_grad = True)\n",
        "\n",
        "optimizer = optim.SGD([W,b], lr = 1e-5)\n",
        "nb_epochs = 20\n",
        "for epoch in range(nb_epochs + 1):\n",
        "  hypothesis = x_train.matmul(W) + b\n",
        "  cost = torch.mean((hypothesis - y_train)**2)\n",
        "\n",
        "  optimizer.zero_grad()\n",
        "  cost.backward()\n",
        "  optimizer.step()\n",
        "\n",
        "  print('Epoch {:4d}/{} hypothesis: {} Cost: {:.6f}'.format(\n",
        "          epoch, nb_epochs, hypothesis.squeeze().detach(), cost.item()\n",
        "      ))"
      ],
      "metadata": {
        "colab": {
          "base_uri": "https://localhost:8080/"
        },
        "id": "la58QINKTQ2e",
        "outputId": "9045c2ba-b975-4bf2-f6d2-1b56b39632ff"
      },
      "execution_count": 66,
      "outputs": [
        {
          "output_type": "stream",
          "name": "stdout",
          "text": [
            "Epoch    0/20 hypothesis: tensor([0., 0., 0., 0., 0.]) Cost: 29661.800781\n",
            "Epoch    1/20 hypothesis: tensor([66.7178, 80.1701, 76.1025, 86.0194, 61.1565]) Cost: 9537.694336\n",
            "Epoch    2/20 hypothesis: tensor([104.5421, 125.6208, 119.2478, 134.7862,  95.8280]) Cost: 3069.590088\n",
            "Epoch    3/20 hypothesis: tensor([125.9858, 151.3882, 143.7087, 162.4333, 115.4844]) Cost: 990.670288\n",
            "Epoch    4/20 hypothesis: tensor([138.1429, 165.9963, 157.5768, 178.1071, 126.6283]) Cost: 322.481873\n",
            "Epoch    5/20 hypothesis: tensor([145.0350, 174.2780, 165.4395, 186.9928, 132.9461]) Cost: 107.717064\n",
            "Epoch    6/20 hypothesis: tensor([148.9423, 178.9730, 169.8976, 192.0301, 136.5279]) Cost: 38.687496\n",
            "Epoch    7/20 hypothesis: tensor([151.1574, 181.6346, 172.4254, 194.8856, 138.5585]) Cost: 16.499043\n",
            "Epoch    8/20 hypothesis: tensor([152.4131, 183.1435, 173.8590, 196.5043, 139.7097]) Cost: 9.365656\n",
            "Epoch    9/20 hypothesis: tensor([153.1250, 183.9988, 174.6723, 197.4217, 140.3625]) Cost: 7.071114\n",
            "Epoch   10/20 hypothesis: tensor([153.5285, 184.4835, 175.1338, 197.9415, 140.7325]) Cost: 6.331847\n",
            "Epoch   11/20 hypothesis: tensor([153.7572, 184.7582, 175.3958, 198.2360, 140.9424]) Cost: 6.092532\n",
            "Epoch   12/20 hypothesis: tensor([153.8868, 184.9138, 175.5449, 198.4026, 141.0613]) Cost: 6.013817\n",
            "Epoch   13/20 hypothesis: tensor([153.9602, 185.0019, 175.6299, 198.4969, 141.1288]) Cost: 5.986785\n",
            "Epoch   14/20 hypothesis: tensor([154.0017, 185.0517, 175.6785, 198.5500, 141.1671]) Cost: 5.976325\n",
            "Epoch   15/20 hypothesis: tensor([154.0252, 185.0798, 175.7065, 198.5800, 141.1888]) Cost: 5.971208\n",
            "Epoch   16/20 hypothesis: tensor([154.0385, 185.0956, 175.7229, 198.5966, 141.2012]) Cost: 5.967835\n",
            "Epoch   17/20 hypothesis: tensor([154.0459, 185.1045, 175.7326, 198.6059, 141.2082]) Cost: 5.964969\n",
            "Epoch   18/20 hypothesis: tensor([154.0501, 185.1094, 175.7386, 198.6108, 141.2122]) Cost: 5.962291\n",
            "Epoch   19/20 hypothesis: tensor([154.0524, 185.1120, 175.7424, 198.6134, 141.2145]) Cost: 5.959664\n",
            "Epoch   20/20 hypothesis: tensor([154.0536, 185.1134, 175.7451, 198.6145, 141.2158]) Cost: 5.957089\n"
          ]
        }
      ]
    },
    {
      "cell_type": "code",
      "source": [
        "#nn.module\n",
        "import torch\n",
        "import torch.nn as nn\n",
        "import torch.nn.functional as F\n",
        "\n",
        "torch.manual_seed(1)\n",
        "x_train = torch.FloatTensor([1,2,3]).unsqueeze(1)\n",
        "y_train = torch.FloatTensor([2,4,6]).unsqueeze(1)\n",
        "print(x_train)\n",
        "\n",
        "model = nn.Linear(1,1)\n",
        "#print(list(model.parameters()))\n",
        "\n",
        "optimizer = torch.optim.SGD(model.parameters(), lr=0.01 )\n",
        "nb_epochs = 2000\n",
        "\n",
        "for epoch in range(nb_epochs+1):\n",
        "  prediction = model(x_train)\n",
        "  cost = F.mse_loss(prediction, y_train)\n",
        "  optimizer.zero_grad()\n",
        "  cost.backward()\n",
        "  optimizer.step()\n",
        "\n",
        "  if epoch % 100 == 0:\n",
        "     print('Epoch {:4d}/{} Cost: {:.6f}'.format(\n",
        "          epoch, nb_epochs, cost.item()\n",
        "      ))"
      ],
      "metadata": {
        "colab": {
          "base_uri": "https://localhost:8080/"
        },
        "id": "XaupJ5OAXKxq",
        "outputId": "892c4301-866e-4196-8c2d-f84ebdd009ff"
      },
      "execution_count": 74,
      "outputs": [
        {
          "output_type": "stream",
          "name": "stdout",
          "text": [
            "tensor([[1.],\n",
            "        [2.],\n",
            "        [3.]])\n",
            "Epoch    0/2000 Cost: 13.103541\n",
            "Epoch  100/2000 Cost: 0.002791\n",
            "Epoch  200/2000 Cost: 0.001724\n",
            "Epoch  300/2000 Cost: 0.001066\n",
            "Epoch  400/2000 Cost: 0.000658\n",
            "Epoch  500/2000 Cost: 0.000407\n",
            "Epoch  600/2000 Cost: 0.000251\n",
            "Epoch  700/2000 Cost: 0.000155\n",
            "Epoch  800/2000 Cost: 0.000096\n",
            "Epoch  900/2000 Cost: 0.000059\n",
            "Epoch 1000/2000 Cost: 0.000037\n",
            "Epoch 1100/2000 Cost: 0.000023\n",
            "Epoch 1200/2000 Cost: 0.000014\n",
            "Epoch 1300/2000 Cost: 0.000009\n",
            "Epoch 1400/2000 Cost: 0.000005\n",
            "Epoch 1500/2000 Cost: 0.000003\n",
            "Epoch 1600/2000 Cost: 0.000002\n",
            "Epoch 1700/2000 Cost: 0.000001\n",
            "Epoch 1800/2000 Cost: 0.000001\n",
            "Epoch 1900/2000 Cost: 0.000000\n",
            "Epoch 2000/2000 Cost: 0.000000\n"
          ]
        }
      ]
    },
    {
      "cell_type": "code",
      "source": [
        "new_var = torch.FloatTensor([[4.0]])\n",
        "pred_y = model(new_var)\n",
        "print(pred_y)\n",
        "print(list(model.parameters()))"
      ],
      "metadata": {
        "colab": {
          "base_uri": "https://localhost:8080/"
        },
        "id": "mIvnoNaKesmF",
        "outputId": "ade97108-ed92-46d2-de89-32f682fbbe49"
      },
      "execution_count": 78,
      "outputs": [
        {
          "output_type": "stream",
          "name": "stdout",
          "text": [
            "tensor([[7.9989]], grad_fn=<AddmmBackward0>)\n",
            "[Parameter containing:\n",
            "tensor([[1.9994]], requires_grad=True), Parameter containing:\n",
            "tensor([0.0014], requires_grad=True)]\n"
          ]
        }
      ]
    },
    {
      "cell_type": "code",
      "source": [
        "x_train = torch.FloatTensor([[73, 80, 75],\n",
        "                             [93, 88, 93],\n",
        "                             [89, 91, 90],\n",
        "                             [96, 98, 100],\n",
        "                             [73, 66, 70]])\n",
        "y_train = torch.FloatTensor([[152], [185], [180], [196], [142]])\n",
        "\n",
        "model = nn.Linear(3,1) #3개의 feature 하나의 y\n",
        "optimizer = torch.optim.SGD(model.parameters(), lr = 1e-5)\n",
        "nb_epochs = 2000\n",
        "for epoch in range(nb_epochs+1):\n",
        "  prediction = model(x_train)\n",
        "  cost = F.mse_loss(prediction, y_train)\n",
        "  optimizer.zero_grad()\n",
        "  cost.backward()\n",
        "  optimizer.step()\n",
        "  if epoch % 100 == 0:\n",
        "    # 100번마다 로그 출력\n",
        "      print('Epoch {:4d}/{} Cost: {:.6f}'.format(\n",
        "          epoch, nb_epochs, cost.item()\n",
        "      ))\n"
      ],
      "metadata": {
        "colab": {
          "base_uri": "https://localhost:8080/"
        },
        "id": "fDzXRekefCxc",
        "outputId": "202124cd-bf34-428f-8781-ac91f2240dc1"
      },
      "execution_count": 82,
      "outputs": [
        {
          "output_type": "stream",
          "name": "stdout",
          "text": [
            "Epoch    0/2000 Cost: 29938.339844\n",
            "Epoch  100/2000 Cost: 1.459696\n",
            "Epoch  200/2000 Cost: 1.404118\n",
            "Epoch  300/2000 Cost: 1.351442\n",
            "Epoch  400/2000 Cost: 1.301445\n",
            "Epoch  500/2000 Cost: 1.254035\n",
            "Epoch  600/2000 Cost: 1.209076\n",
            "Epoch  700/2000 Cost: 1.166424\n",
            "Epoch  800/2000 Cost: 1.125966\n",
            "Epoch  900/2000 Cost: 1.087573\n",
            "Epoch 1000/2000 Cost: 1.051147\n",
            "Epoch 1100/2000 Cost: 1.016586\n",
            "Epoch 1200/2000 Cost: 0.983798\n",
            "Epoch 1300/2000 Cost: 0.952660\n",
            "Epoch 1400/2000 Cost: 0.923131\n",
            "Epoch 1500/2000 Cost: 0.895094\n",
            "Epoch 1600/2000 Cost: 0.868473\n",
            "Epoch 1700/2000 Cost: 0.843199\n",
            "Epoch 1800/2000 Cost: 0.819206\n",
            "Epoch 1900/2000 Cost: 0.796417\n",
            "Epoch 2000/2000 Cost: 0.774786\n"
          ]
        }
      ]
    },
    {
      "cell_type": "code",
      "source": [
        "class LinearRegressionModel(nn.Module):\n",
        "  def __init__(self):\n",
        "    super().__init__()\n",
        "    self.linear = nn.Linear(1,1)\n",
        "  \n",
        "  def forward(self,x):\n",
        "    return self.linear(x)\n",
        "x_train = torch.FloatTensor([[1], [2], [3]])\n",
        "y_train = torch.FloatTensor([[2], [4], [6]])\n",
        "model = LinearRegressionModel()\n",
        "optimizer = torch.optim.SGD(model.parameters(), lr = 0.01)\n",
        "nb_epochs = 2000\n",
        "for epoch in range(nb_epochs+1):\n",
        "  prediction = model(x_train)\n",
        "  cost = F.mse_loss(prediction, y_train)\n",
        "  optimizer.zero_grad()\n",
        "  cost.backward()\n",
        "  optimizer.step()\n",
        "  if epoch % 100 == 0:\n",
        "    # 100번마다 로그 출력\n",
        "      print('Epoch {:4d}/{} Cost: {:.6f}'.format(\n",
        "          epoch, nb_epochs, cost.item()\n",
        "      ))\n"
      ],
      "metadata": {
        "colab": {
          "base_uri": "https://localhost:8080/"
        },
        "id": "trQyzEQUkaYZ",
        "outputId": "d6972a57-1268-4df0-86e8-87c31c3549b4"
      },
      "execution_count": 84,
      "outputs": [
        {
          "output_type": "stream",
          "name": "stdout",
          "text": [
            "Epoch    0/2000 Cost: 32.361588\n",
            "Epoch  100/2000 Cost: 0.012030\n",
            "Epoch  200/2000 Cost: 0.007434\n",
            "Epoch  300/2000 Cost: 0.004593\n",
            "Epoch  400/2000 Cost: 0.002839\n",
            "Epoch  500/2000 Cost: 0.001754\n",
            "Epoch  600/2000 Cost: 0.001084\n",
            "Epoch  700/2000 Cost: 0.000670\n",
            "Epoch  800/2000 Cost: 0.000414\n",
            "Epoch  900/2000 Cost: 0.000256\n",
            "Epoch 1000/2000 Cost: 0.000158\n",
            "Epoch 1100/2000 Cost: 0.000098\n",
            "Epoch 1200/2000 Cost: 0.000060\n",
            "Epoch 1300/2000 Cost: 0.000037\n",
            "Epoch 1400/2000 Cost: 0.000023\n",
            "Epoch 1500/2000 Cost: 0.000014\n",
            "Epoch 1600/2000 Cost: 0.000009\n",
            "Epoch 1700/2000 Cost: 0.000005\n",
            "Epoch 1800/2000 Cost: 0.000003\n",
            "Epoch 1900/2000 Cost: 0.000002\n",
            "Epoch 2000/2000 Cost: 0.000001\n"
          ]
        }
      ]
    },
    {
      "cell_type": "code",
      "source": [
        "x_train = torch.FloatTensor([[73, 80, 75],\n",
        "                             [93, 88, 93],\n",
        "                             [89, 91, 90],\n",
        "                             [96, 98, 100],\n",
        "                             [73, 66, 70]])\n",
        "y_train = torch.FloatTensor([[152], [185], [180], [196], [142]])\n",
        "\n",
        "class MultivariateLinearRegressionModel(nn.Module):\n",
        "    def __init__(self):\n",
        "        super().__init__()\n",
        "        self.linear = nn.Linear(3, 1) # 다중 선형 회귀이므로 input_dim=3, output_dim=1.\n",
        "\n",
        "    def forward(self, x):\n",
        "        return self.linear(x)\n",
        "\n",
        "model = MultivariateLinearRegressionModel()\n",
        "optimizer = torch.optim.SGD(model.parameters(), lr=1e-5) \n",
        "nb_epochs = 2000\n",
        "for epoch in range(nb_epochs +1):\n",
        "  prediction = model(x_train)\n",
        "  cost = F.mse_loss(prediction, y_train)\n",
        "  optimizer.zero_grad()\n",
        "  cost.backward()\n",
        "  optimizer.step()\n",
        "  if epoch % 100 == 0:\n",
        "    # 100번마다 로그 출력\n",
        "      print('Epoch {:4d}/{} Cost: {:.6f}'.format(\n",
        "          epoch, nb_epochs, cost.item()\n",
        "      ))"
      ],
      "metadata": {
        "colab": {
          "base_uri": "https://localhost:8080/"
        },
        "id": "E4bD9YpJl9dL",
        "outputId": "07c6f9be-09b6-496a-b2d9-055b1b085cc2"
      },
      "execution_count": 93,
      "outputs": [
        {
          "output_type": "stream",
          "name": "stdout",
          "text": [
            "Epoch    0/2000 Cost: 25809.587891\n",
            "Epoch  100/2000 Cost: 0.298808\n",
            "Epoch  200/2000 Cost: 0.292559\n",
            "Epoch  300/2000 Cost: 0.286632\n",
            "Epoch  400/2000 Cost: 0.281008\n",
            "Epoch  500/2000 Cost: 0.275684\n",
            "Epoch  600/2000 Cost: 0.270632\n",
            "Epoch  700/2000 Cost: 0.265832\n",
            "Epoch  800/2000 Cost: 0.261289\n",
            "Epoch  900/2000 Cost: 0.256981\n",
            "Epoch 1000/2000 Cost: 0.252894\n",
            "Epoch 1100/2000 Cost: 0.249015\n",
            "Epoch 1200/2000 Cost: 0.245331\n",
            "Epoch 1300/2000 Cost: 0.241845\n",
            "Epoch 1400/2000 Cost: 0.238542\n",
            "Epoch 1500/2000 Cost: 0.235392\n",
            "Epoch 1600/2000 Cost: 0.232420\n",
            "Epoch 1700/2000 Cost: 0.229590\n",
            "Epoch 1800/2000 Cost: 0.226897\n",
            "Epoch 1900/2000 Cost: 0.224347\n",
            "Epoch 2000/2000 Cost: 0.221932\n"
          ]
        }
      ]
    },
    {
      "cell_type": "code",
      "source": [
        ""
      ],
      "metadata": {
        "id": "3FMJm9ZpsJb_"
      },
      "execution_count": null,
      "outputs": []
    }
  ]
}