{
  "nbformat": 4,
  "nbformat_minor": 0,
  "metadata": {
    "colab": {
      "name": "Wikidocs AI.ipynb",
      "provenance": [],
      "collapsed_sections": [],
      "authorship_tag": "ABX9TyMvBKaEYX8c6N954P1/kZfz",
      "include_colab_link": true
    },
    "kernelspec": {
      "name": "python3",
      "display_name": "Python 3"
    },
    "language_info": {
      "name": "python"
    }
  },
  "cells": [
    {
      "cell_type": "markdown",
      "metadata": {
        "id": "view-in-github",
        "colab_type": "text"
      },
      "source": [
        "<a href=\"https://colab.research.google.com/github/Bo-kyoung/AI-practices/blob/main/Wikidocs_AI.ipynb\" target=\"_parent\"><img src=\"https://colab.research.google.com/assets/colab-badge.svg\" alt=\"Open In Colab\"/></a>"
      ]
    },
    {
      "cell_type": "code",
      "source": [
        "class Calculator:\n",
        "  def __init__(self):\n",
        "    self.result=0\n",
        "    print(\"선언완료\")\n",
        "  def add(self, num):\n",
        "    self.result += num\n",
        "    return self.result\n",
        "cal1= Calculator()\n",
        "cal2= Calculator()\n",
        "print(cal1.add(3))\n",
        "print(cal1.add(4))"
      ],
      "metadata": {
        "colab": {
          "base_uri": "https://localhost:8080/"
        },
        "id": "SXrytLxC_6wR",
        "outputId": "f051067d-8790-407e-dc94-4de1eacf20ab"
      },
      "execution_count": null,
      "outputs": [
        {
          "output_type": "stream",
          "name": "stdout",
          "text": [
            "선언완료\n",
            "선언완료\n",
            "3\n",
            "7\n"
          ]
        }
      ]
    },
    {
      "cell_type": "code",
      "source": [
        "import torch\n",
        "import torch.nn as nn\n",
        "import torch.nn.functional as F\n",
        "import torch.optim as optim\n",
        "torch.manual_seed(1)\n",
        "x_train = torch.FloatTensor([1,2,3]).unsqueeze(1)\n",
        "y_train = torch.FloatTensor([2,4,6]).unsqueeze(1)\n",
        "\n",
        "W = torch.zeros(1, requires_grad=True) # X*W이므로 (1*1)\n",
        "b = torch.zeros(1, requires_grad=True) \n",
        "\n",
        "nb_epochs = 2999\n",
        "for epoch in range(nb_epochs + 1):\n",
        "  hypothesis = x_train.mul(W)+b \n",
        "\n",
        "\n",
        "  cost = torch.mean((hypothesis - y_train)**2)\n",
        "\n",
        "\n",
        "  optimizer = optim.SGD([W,b], lr = 0.01)\n",
        "  optimizer.zero_grad()\n",
        "  cost.backward() #기울기 연산(hypothesis에 초기 w, b대입, 계산, cost에 hypothesis 대입, 계산, 해서 w, b(required step TRUE 설정) return \n",
        "  optimizer.step() #learnin late 계산 해서 기울기를 빼줌\n",
        "\n",
        "  if epoch % 100 == 0:\n",
        "    print('Epoch {:4d}/{} W: {:.4f}, b: {:.3f} Cost: {:.6f}'.format(\n",
        "            epoch, nb_epochs, W.item(), b.item(), cost.item()\n",
        "        ))\n",
        "\n"
      ],
      "metadata": {
        "colab": {
          "base_uri": "https://localhost:8080/"
        },
        "id": "a-ngqSMrAZab",
        "outputId": "e29059d1-c343-4535-e86f-73250b5da5f2"
      },
      "execution_count": null,
      "outputs": [
        {
          "output_type": "stream",
          "name": "stdout",
          "text": [
            "Epoch   0/2999 W: 0.1867, b: 0.080 Cost: 18.666666\n",
            "Epoch 100/2999 W: 1.7457, b: 0.578 Cost: 0.048171\n",
            "Epoch 200/2999 W: 1.8001, b: 0.454 Cost: 0.029767\n",
            "Epoch 300/2999 W: 1.8429, b: 0.357 Cost: 0.018394\n",
            "Epoch 400/2999 W: 1.8765, b: 0.281 Cost: 0.011366\n",
            "Epoch 500/2999 W: 1.9029, b: 0.221 Cost: 0.007024\n",
            "Epoch 600/2999 W: 1.9237, b: 0.174 Cost: 0.004340\n",
            "Epoch 700/2999 W: 1.9400, b: 0.136 Cost: 0.002682\n",
            "Epoch 800/2999 W: 1.9528, b: 0.107 Cost: 0.001657\n",
            "Epoch 900/2999 W: 1.9629, b: 0.084 Cost: 0.001024\n",
            "Epoch 1000/2999 W: 1.9709, b: 0.066 Cost: 0.000633\n",
            "Epoch 1100/2999 W: 1.9771, b: 0.052 Cost: 0.000391\n",
            "Epoch 1200/2999 W: 1.9820, b: 0.041 Cost: 0.000242\n",
            "Epoch 1300/2999 W: 1.9858, b: 0.032 Cost: 0.000149\n",
            "Epoch 1400/2999 W: 1.9889, b: 0.025 Cost: 0.000092\n",
            "Epoch 1500/2999 W: 1.9913, b: 0.020 Cost: 0.000057\n",
            "Epoch 1600/2999 W: 1.9931, b: 0.016 Cost: 0.000035\n",
            "Epoch 1700/2999 W: 1.9946, b: 0.012 Cost: 0.000022\n",
            "Epoch 1800/2999 W: 1.9958, b: 0.010 Cost: 0.000013\n",
            "Epoch 1900/2999 W: 1.9967, b: 0.008 Cost: 0.000008\n",
            "Epoch 2000/2999 W: 1.9974, b: 0.006 Cost: 0.000005\n",
            "Epoch 2100/2999 W: 1.9979, b: 0.005 Cost: 0.000003\n",
            "Epoch 2200/2999 W: 1.9984, b: 0.004 Cost: 0.000002\n",
            "Epoch 2300/2999 W: 1.9987, b: 0.003 Cost: 0.000001\n",
            "Epoch 2400/2999 W: 1.9990, b: 0.002 Cost: 0.000001\n",
            "Epoch 2500/2999 W: 1.9992, b: 0.002 Cost: 0.000000\n",
            "Epoch 2600/2999 W: 1.9994, b: 0.001 Cost: 0.000000\n",
            "Epoch 2700/2999 W: 1.9995, b: 0.001 Cost: 0.000000\n",
            "Epoch 2800/2999 W: 1.9996, b: 0.001 Cost: 0.000000\n",
            "Epoch 2900/2999 W: 1.9997, b: 0.001 Cost: 0.000000\n"
          ]
        }
      ]
    },
    {
      "cell_type": "code",
      "source": [
        "w = torch.tensor(2.0, requires_grad  = True)\n",
        "y = w**2\n",
        "z = 2*y + 5\n",
        "z.backward()\n",
        "print(w.grad) #미분한 수식: f(x) = 4w, w값은 2였으니 기울기는 8 "
      ],
      "metadata": {
        "colab": {
          "base_uri": "https://localhost:8080/"
        },
        "id": "k0qIMUIkUAqE",
        "outputId": "3e7c764a-a7f3-4645-ac44-3f00429787ea"
      },
      "execution_count": null,
      "outputs": [
        {
          "output_type": "stream",
          "name": "stdout",
          "text": [
            "tensor(8.)\n"
          ]
        }
      ]
    },
    {
      "cell_type": "code",
      "source": [
        "torch.manual_seed(1)\n",
        "x1_train = torch.FloatTensor([[73], [93], [89], [96], [73]])\n",
        "x2_train = torch.FloatTensor([[80], [88], [91], [98], [66]])\n",
        "x3_train = torch.FloatTensor([[75], [93], [90], [100], [70]])\n",
        "y_train = torch.FloatTensor([[152], [185], [180], [196], [142]]) #feature가 3개(x의 개수 - dim이 3)\n",
        "\n",
        "w1 = torch.zeros(1, requires_grad=True)\n",
        "w2 = torch.zeros(1, requires_grad=True)\n",
        "w3 = torch.zeros(1, requires_grad=True)\n",
        "b = torch.zeros(1, requires_grad=True)\n",
        "\n",
        "# optimizer 설정\n",
        "optimizer = optim.SGD([w1, w2, w3, b], lr=1e-5)\n",
        "\n",
        "nb_epochs = 1000\n",
        "for epoch in range(nb_epochs + 1):\n",
        "\n",
        "    # H(x) 계산\n",
        "    hypothesis = x1_train * w1 + x2_train * w2 + x3_train * w3 + b\n",
        "\n",
        "    # cost 계산\n",
        "    cost = torch.mean((hypothesis - y_train) ** 2)\n",
        "\n",
        "    # cost로 H(x) 개선\n",
        "    optimizer.zero_grad()\n",
        "    cost.backward()\n",
        "    optimizer.step()\n",
        "\n",
        "    # 100번마다 로그 출력\n",
        "    if epoch % 100 == 0:\n",
        "        print('Epoch {:4d}/{} w1: {:.3f} w2: {:.3f} w3: {:.3f} b: {:.3f} Cost: {:.6f}'.format(\n",
        "            epoch, nb_epochs, w1.item(), w2.item(), w3.item(), b.item(), cost.item()\n",
        "        ))"
      ],
      "metadata": {
        "colab": {
          "base_uri": "https://localhost:8080/"
        },
        "id": "834EFKsqU1v_",
        "outputId": "23f094de-5874-4a63-e57d-fe126f64bdde"
      },
      "execution_count": null,
      "outputs": [
        {
          "output_type": "stream",
          "name": "stdout",
          "text": [
            "Epoch    0/1000 w1: 0.294 w2: 0.294 w3: 0.297 b: 0.003 Cost: 29661.800781\n",
            "Epoch  100/1000 w1: 0.674 w2: 0.661 w3: 0.676 b: 0.008 Cost: 1.563628\n",
            "Epoch  200/1000 w1: 0.679 w2: 0.655 w3: 0.677 b: 0.008 Cost: 1.497595\n",
            "Epoch  300/1000 w1: 0.684 w2: 0.649 w3: 0.677 b: 0.008 Cost: 1.435044\n",
            "Epoch  400/1000 w1: 0.689 w2: 0.643 w3: 0.678 b: 0.008 Cost: 1.375726\n",
            "Epoch  500/1000 w1: 0.694 w2: 0.638 w3: 0.678 b: 0.009 Cost: 1.319507\n",
            "Epoch  600/1000 w1: 0.699 w2: 0.633 w3: 0.679 b: 0.009 Cost: 1.266222\n",
            "Epoch  700/1000 w1: 0.704 w2: 0.627 w3: 0.679 b: 0.009 Cost: 1.215703\n",
            "Epoch  800/1000 w1: 0.709 w2: 0.622 w3: 0.679 b: 0.009 Cost: 1.167810\n",
            "Epoch  900/1000 w1: 0.713 w2: 0.617 w3: 0.680 b: 0.009 Cost: 1.122429\n",
            "Epoch 1000/1000 w1: 0.718 w2: 0.613 w3: 0.680 b: 0.009 Cost: 1.079390\n"
          ]
        }
      ]
    },
    {
      "cell_type": "code",
      "source": [
        "x_train  =  torch.FloatTensor([[73,  80,  75], \n",
        "                               [93,  88,  93], \n",
        "                               [89,  91,  80], \n",
        "                               [96,  98,  100],   \n",
        "                               [73,  66,  70]])  \n",
        "y_train  =  torch.FloatTensor([[152],  [185],  [180],  [196],  [142]])\n",
        "\n",
        "W = torch.zeros((3,1), requires_grad = True )\n",
        "b = torch.zeros(1, requires_grad = True)\n",
        "\n",
        "optimizer = optim.SGD([W,b], lr = 1e-5)\n",
        "nb_epochs = 20\n",
        "for epoch in range(nb_epochs + 1):\n",
        "  hypothesis = x_train.matmul(W) + b\n",
        "  cost = torch.mean((hypothesis - y_train)**2)\n",
        "\n",
        "  optimizer.zero_grad()\n",
        "  cost.backward()\n",
        "  optimizer.step()\n",
        "\n",
        "  print('Epoch {:4d}/{} hypothesis: {} Cost: {:.6f}'.format(\n",
        "          epoch, nb_epochs, hypothesis.squeeze().detach(), cost.item()\n",
        "      ))"
      ],
      "metadata": {
        "colab": {
          "base_uri": "https://localhost:8080/"
        },
        "id": "la58QINKTQ2e",
        "outputId": "9045c2ba-b975-4bf2-f6d2-1b56b39632ff"
      },
      "execution_count": null,
      "outputs": [
        {
          "output_type": "stream",
          "name": "stdout",
          "text": [
            "Epoch    0/20 hypothesis: tensor([0., 0., 0., 0., 0.]) Cost: 29661.800781\n",
            "Epoch    1/20 hypothesis: tensor([66.7178, 80.1701, 76.1025, 86.0194, 61.1565]) Cost: 9537.694336\n",
            "Epoch    2/20 hypothesis: tensor([104.5421, 125.6208, 119.2478, 134.7862,  95.8280]) Cost: 3069.590088\n",
            "Epoch    3/20 hypothesis: tensor([125.9858, 151.3882, 143.7087, 162.4333, 115.4844]) Cost: 990.670288\n",
            "Epoch    4/20 hypothesis: tensor([138.1429, 165.9963, 157.5768, 178.1071, 126.6283]) Cost: 322.481873\n",
            "Epoch    5/20 hypothesis: tensor([145.0350, 174.2780, 165.4395, 186.9928, 132.9461]) Cost: 107.717064\n",
            "Epoch    6/20 hypothesis: tensor([148.9423, 178.9730, 169.8976, 192.0301, 136.5279]) Cost: 38.687496\n",
            "Epoch    7/20 hypothesis: tensor([151.1574, 181.6346, 172.4254, 194.8856, 138.5585]) Cost: 16.499043\n",
            "Epoch    8/20 hypothesis: tensor([152.4131, 183.1435, 173.8590, 196.5043, 139.7097]) Cost: 9.365656\n",
            "Epoch    9/20 hypothesis: tensor([153.1250, 183.9988, 174.6723, 197.4217, 140.3625]) Cost: 7.071114\n",
            "Epoch   10/20 hypothesis: tensor([153.5285, 184.4835, 175.1338, 197.9415, 140.7325]) Cost: 6.331847\n",
            "Epoch   11/20 hypothesis: tensor([153.7572, 184.7582, 175.3958, 198.2360, 140.9424]) Cost: 6.092532\n",
            "Epoch   12/20 hypothesis: tensor([153.8868, 184.9138, 175.5449, 198.4026, 141.0613]) Cost: 6.013817\n",
            "Epoch   13/20 hypothesis: tensor([153.9602, 185.0019, 175.6299, 198.4969, 141.1288]) Cost: 5.986785\n",
            "Epoch   14/20 hypothesis: tensor([154.0017, 185.0517, 175.6785, 198.5500, 141.1671]) Cost: 5.976325\n",
            "Epoch   15/20 hypothesis: tensor([154.0252, 185.0798, 175.7065, 198.5800, 141.1888]) Cost: 5.971208\n",
            "Epoch   16/20 hypothesis: tensor([154.0385, 185.0956, 175.7229, 198.5966, 141.2012]) Cost: 5.967835\n",
            "Epoch   17/20 hypothesis: tensor([154.0459, 185.1045, 175.7326, 198.6059, 141.2082]) Cost: 5.964969\n",
            "Epoch   18/20 hypothesis: tensor([154.0501, 185.1094, 175.7386, 198.6108, 141.2122]) Cost: 5.962291\n",
            "Epoch   19/20 hypothesis: tensor([154.0524, 185.1120, 175.7424, 198.6134, 141.2145]) Cost: 5.959664\n",
            "Epoch   20/20 hypothesis: tensor([154.0536, 185.1134, 175.7451, 198.6145, 141.2158]) Cost: 5.957089\n"
          ]
        }
      ]
    },
    {
      "cell_type": "code",
      "source": [
        "#nn.module\n",
        "import torch\n",
        "import torch.nn as nn\n",
        "import torch.nn.functional as F\n",
        "\n",
        "torch.manual_seed(1)\n",
        "x_train = torch.FloatTensor([1,2,3]).unsqueeze(1)\n",
        "y_train = torch.FloatTensor([2,4,6]).unsqueeze(1)\n",
        "print(x_train)\n",
        "\n",
        "model = nn.Linear(1,1)\n",
        "#print(list(model.parameters()))\n",
        "\n",
        "optimizer = torch.optim.SGD(model.parameters(), lr=0.01 )\n",
        "nb_epochs = 2000\n",
        "\n",
        "for epoch in range(nb_epochs+1):\n",
        "  prediction = model(x_train)\n",
        "  cost = F.mse_loss(prediction, y_train)\n",
        "  optimizer.zero_grad()\n",
        "  cost.backward()\n",
        "  optimizer.step()\n",
        "\n",
        "  if epoch % 100 == 0:\n",
        "     print('Epoch {:4d}/{} Cost: {:.6f}'.format(\n",
        "          epoch, nb_epochs, cost.item()\n",
        "      ))"
      ],
      "metadata": {
        "colab": {
          "base_uri": "https://localhost:8080/"
        },
        "id": "XaupJ5OAXKxq",
        "outputId": "892c4301-866e-4196-8c2d-f84ebdd009ff"
      },
      "execution_count": null,
      "outputs": [
        {
          "output_type": "stream",
          "name": "stdout",
          "text": [
            "tensor([[1.],\n",
            "        [2.],\n",
            "        [3.]])\n",
            "Epoch    0/2000 Cost: 13.103541\n",
            "Epoch  100/2000 Cost: 0.002791\n",
            "Epoch  200/2000 Cost: 0.001724\n",
            "Epoch  300/2000 Cost: 0.001066\n",
            "Epoch  400/2000 Cost: 0.000658\n",
            "Epoch  500/2000 Cost: 0.000407\n",
            "Epoch  600/2000 Cost: 0.000251\n",
            "Epoch  700/2000 Cost: 0.000155\n",
            "Epoch  800/2000 Cost: 0.000096\n",
            "Epoch  900/2000 Cost: 0.000059\n",
            "Epoch 1000/2000 Cost: 0.000037\n",
            "Epoch 1100/2000 Cost: 0.000023\n",
            "Epoch 1200/2000 Cost: 0.000014\n",
            "Epoch 1300/2000 Cost: 0.000009\n",
            "Epoch 1400/2000 Cost: 0.000005\n",
            "Epoch 1500/2000 Cost: 0.000003\n",
            "Epoch 1600/2000 Cost: 0.000002\n",
            "Epoch 1700/2000 Cost: 0.000001\n",
            "Epoch 1800/2000 Cost: 0.000001\n",
            "Epoch 1900/2000 Cost: 0.000000\n",
            "Epoch 2000/2000 Cost: 0.000000\n"
          ]
        }
      ]
    },
    {
      "cell_type": "code",
      "source": [
        "new_var = torch.FloatTensor([[4.0]])\n",
        "pred_y = model(new_var)\n",
        "print(pred_y)\n",
        "print(list(model.parameters()))"
      ],
      "metadata": {
        "colab": {
          "base_uri": "https://localhost:8080/"
        },
        "id": "mIvnoNaKesmF",
        "outputId": "ade97108-ed92-46d2-de89-32f682fbbe49"
      },
      "execution_count": null,
      "outputs": [
        {
          "output_type": "stream",
          "name": "stdout",
          "text": [
            "tensor([[7.9989]], grad_fn=<AddmmBackward0>)\n",
            "[Parameter containing:\n",
            "tensor([[1.9994]], requires_grad=True), Parameter containing:\n",
            "tensor([0.0014], requires_grad=True)]\n"
          ]
        }
      ]
    },
    {
      "cell_type": "code",
      "source": [
        "x_train = torch.FloatTensor([[73, 80, 75],\n",
        "                             [93, 88, 93],\n",
        "                             [89, 91, 90],\n",
        "                             [96, 98, 100],\n",
        "                             [73, 66, 70]])\n",
        "y_train = torch.FloatTensor([[152], [185], [180], [196], [142]])\n",
        "\n",
        "model = nn.Linear(3,1) #3개의 feature 하나의 y\n",
        "optimizer = torch.optim.SGD(model.parameters(), lr = 1e-5)\n",
        "nb_epochs = 2000\n",
        "for epoch in range(nb_epochs+1):\n",
        "  prediction = model(x_train)\n",
        "  cost = F.mse_loss(prediction, y_train)\n",
        "  optimizer.zero_grad()\n",
        "  cost.backward()\n",
        "  optimizer.step()\n",
        "  if epoch % 100 == 0:\n",
        "    # 100번마다 로그 출력\n",
        "      print('Epoch {:4d}/{} Cost: {:.6f}'.format(\n",
        "          epoch, nb_epochs, cost.item()\n",
        "      ))\n"
      ],
      "metadata": {
        "colab": {
          "base_uri": "https://localhost:8080/"
        },
        "id": "fDzXRekefCxc",
        "outputId": "202124cd-bf34-428f-8781-ac91f2240dc1"
      },
      "execution_count": null,
      "outputs": [
        {
          "output_type": "stream",
          "name": "stdout",
          "text": [
            "Epoch    0/2000 Cost: 29938.339844\n",
            "Epoch  100/2000 Cost: 1.459696\n",
            "Epoch  200/2000 Cost: 1.404118\n",
            "Epoch  300/2000 Cost: 1.351442\n",
            "Epoch  400/2000 Cost: 1.301445\n",
            "Epoch  500/2000 Cost: 1.254035\n",
            "Epoch  600/2000 Cost: 1.209076\n",
            "Epoch  700/2000 Cost: 1.166424\n",
            "Epoch  800/2000 Cost: 1.125966\n",
            "Epoch  900/2000 Cost: 1.087573\n",
            "Epoch 1000/2000 Cost: 1.051147\n",
            "Epoch 1100/2000 Cost: 1.016586\n",
            "Epoch 1200/2000 Cost: 0.983798\n",
            "Epoch 1300/2000 Cost: 0.952660\n",
            "Epoch 1400/2000 Cost: 0.923131\n",
            "Epoch 1500/2000 Cost: 0.895094\n",
            "Epoch 1600/2000 Cost: 0.868473\n",
            "Epoch 1700/2000 Cost: 0.843199\n",
            "Epoch 1800/2000 Cost: 0.819206\n",
            "Epoch 1900/2000 Cost: 0.796417\n",
            "Epoch 2000/2000 Cost: 0.774786\n"
          ]
        }
      ]
    },
    {
      "cell_type": "code",
      "source": [
        "class LinearRegressionModel(nn.Module):\n",
        "  def __init__(self):\n",
        "    super().__init__()\n",
        "    self.linear = nn.Linear(1,1)\n",
        "  \n",
        "  def forward(self,x):\n",
        "    return self.linear(x)\n",
        "x_train = torch.FloatTensor([[1], [2], [3]])\n",
        "y_train = torch.FloatTensor([[2], [4], [6]])\n",
        "model = LinearRegressionModel()\n",
        "optimizer = torch.optim.SGD(model.parameters(), lr = 0.01)\n",
        "nb_epochs = 2000\n",
        "for epoch in range(nb_epochs+1):\n",
        "  prediction = model(x_train)\n",
        "  cost = F.mse_loss(prediction, y_train)\n",
        "  optimizer.zero_grad()\n",
        "  cost.backward()\n",
        "  optimizer.step()\n",
        "  if epoch % 100 == 0:\n",
        "    # 100번마다 로그 출력\n",
        "      print('Epoch {:4d}/{} Cost: {:.6f}'.format(\n",
        "          epoch, nb_epochs, cost.item()\n",
        "      ))\n"
      ],
      "metadata": {
        "colab": {
          "base_uri": "https://localhost:8080/"
        },
        "id": "trQyzEQUkaYZ",
        "outputId": "d6972a57-1268-4df0-86e8-87c31c3549b4"
      },
      "execution_count": null,
      "outputs": [
        {
          "output_type": "stream",
          "name": "stdout",
          "text": [
            "Epoch    0/2000 Cost: 32.361588\n",
            "Epoch  100/2000 Cost: 0.012030\n",
            "Epoch  200/2000 Cost: 0.007434\n",
            "Epoch  300/2000 Cost: 0.004593\n",
            "Epoch  400/2000 Cost: 0.002839\n",
            "Epoch  500/2000 Cost: 0.001754\n",
            "Epoch  600/2000 Cost: 0.001084\n",
            "Epoch  700/2000 Cost: 0.000670\n",
            "Epoch  800/2000 Cost: 0.000414\n",
            "Epoch  900/2000 Cost: 0.000256\n",
            "Epoch 1000/2000 Cost: 0.000158\n",
            "Epoch 1100/2000 Cost: 0.000098\n",
            "Epoch 1200/2000 Cost: 0.000060\n",
            "Epoch 1300/2000 Cost: 0.000037\n",
            "Epoch 1400/2000 Cost: 0.000023\n",
            "Epoch 1500/2000 Cost: 0.000014\n",
            "Epoch 1600/2000 Cost: 0.000009\n",
            "Epoch 1700/2000 Cost: 0.000005\n",
            "Epoch 1800/2000 Cost: 0.000003\n",
            "Epoch 1900/2000 Cost: 0.000002\n",
            "Epoch 2000/2000 Cost: 0.000001\n"
          ]
        }
      ]
    },
    {
      "cell_type": "code",
      "source": [
        "x_train = torch.FloatTensor([[73, 80, 75],\n",
        "                             [93, 88, 93],\n",
        "                             [89, 91, 90],\n",
        "                             [96, 98, 100],\n",
        "                             [73, 66, 70]])\n",
        "y_train = torch.FloatTensor([[152], [185], [180], [196], [142]])\n",
        "\n",
        "class MultivariateLinearRegressionModel(nn.Module):\n",
        "    def __init__(self):\n",
        "        super().__init__()\n",
        "        self.linear = nn.Linear(3, 1) # 다중 선형 회귀이므로 input_dim=3, output_dim=1.\n",
        "\n",
        "    def forward(self, x):\n",
        "        return self.linear(x)\n",
        "\n",
        "model = MultivariateLinearRegressionModel()\n",
        "optimizer = torch.optim.SGD(model.parameters(), lr=1e-5) \n",
        "nb_epochs = 2000\n",
        "for epoch in range(nb_epochs +1):\n",
        "  prediction = model(x_train)\n",
        "  cost = F.mse_loss(prediction, y_train)\n",
        "  optimizer.zero_grad()\n",
        "  cost.backward()\n",
        "  optimizer.step()\n",
        "  if epoch % 100 == 0:\n",
        "    # 100번마다 로그 출력\n",
        "      print('Epoch {:4d}/{} Cost: {:.6f}'.format(\n",
        "          epoch, nb_epochs, cost.item()\n",
        "      ))"
      ],
      "metadata": {
        "colab": {
          "base_uri": "https://localhost:8080/"
        },
        "id": "E4bD9YpJl9dL",
        "outputId": "07c6f9be-09b6-496a-b2d9-055b1b085cc2"
      },
      "execution_count": null,
      "outputs": [
        {
          "output_type": "stream",
          "name": "stdout",
          "text": [
            "Epoch    0/2000 Cost: 25809.587891\n",
            "Epoch  100/2000 Cost: 0.298808\n",
            "Epoch  200/2000 Cost: 0.292559\n",
            "Epoch  300/2000 Cost: 0.286632\n",
            "Epoch  400/2000 Cost: 0.281008\n",
            "Epoch  500/2000 Cost: 0.275684\n",
            "Epoch  600/2000 Cost: 0.270632\n",
            "Epoch  700/2000 Cost: 0.265832\n",
            "Epoch  800/2000 Cost: 0.261289\n",
            "Epoch  900/2000 Cost: 0.256981\n",
            "Epoch 1000/2000 Cost: 0.252894\n",
            "Epoch 1100/2000 Cost: 0.249015\n",
            "Epoch 1200/2000 Cost: 0.245331\n",
            "Epoch 1300/2000 Cost: 0.241845\n",
            "Epoch 1400/2000 Cost: 0.238542\n",
            "Epoch 1500/2000 Cost: 0.235392\n",
            "Epoch 1600/2000 Cost: 0.232420\n",
            "Epoch 1700/2000 Cost: 0.229590\n",
            "Epoch 1800/2000 Cost: 0.226897\n",
            "Epoch 1900/2000 Cost: 0.224347\n",
            "Epoch 2000/2000 Cost: 0.221932\n"
          ]
        }
      ]
    },
    {
      "cell_type": "code",
      "source": [
        "import torch\n",
        "import torch.nn as nn\n",
        "import torch.nn.functional as F\n",
        "\n",
        "from torch.utils.data import TensorDataset\n",
        "from torch.utils.data import DataLoader\n",
        "\n",
        "x_train  =  torch.FloatTensor([[73,  80,  75], \n",
        "                               [93,  88,  93], \n",
        "                               [89,  91,  90], \n",
        "                               [96,  98,  100],   \n",
        "                               [73,  66,  70]])  \n",
        "y_train  =  torch.FloatTensor([[152],  [185],  [180],  [196],  [142]])\n",
        "\n",
        "dataset = TensorDataset(x_train, y_train) #dataloader(인자로 dataset과 batch크기를 받음)를 위한\n",
        "dataloader = DataLoader(dataset, batch_size = 2, shuffle = True)\n",
        "model = nn.Linear(3,1)\n",
        "optimizer = torch.optim.SGD(model.parameters(), lr = 1e-5)\n",
        "nb_epochs = 20\n",
        "for epoch in range(nb_epochs + 1):\n",
        "  for batch_idx, sample in enumerate(dataloader): #enumerate() 함수는 기본적으로 인덱스와 원소로 이루어진 터플(tuple)을 만들어줌\n",
        "    #print(batch_idx)\n",
        "    #print(sample)\n",
        "    x_train, y_train = sample\n",
        "    prediction = model(x_train)\n",
        "    cost = F.mse_loss(prediction, y_train)\n",
        "    optimizer.zero_grad()\n",
        "    cost.backward()\n",
        "    optimizer.step()\n",
        "\n",
        "    print('Epoch {:4d}/{} Batch {}/{} Cost: {:.6f}'.format(\n",
        "        epoch, nb_epochs, batch_idx+1, len(dataloader),\n",
        "        cost.item()\n",
        "      ))\n",
        "    "
      ],
      "metadata": {
        "id": "3FMJm9ZpsJb_"
      },
      "execution_count": null,
      "outputs": []
    },
    {
      "cell_type": "code",
      "source": [
        "new_var = torch.FloatTensor([[73,80,75]])\n",
        "pred_y = model(new_var)\n",
        "print(pred_y)"
      ],
      "metadata": {
        "colab": {
          "base_uri": "https://localhost:8080/"
        },
        "id": "ndS2pFJUZjil",
        "outputId": "68f4eec9-aa06-438d-86d6-fb47d222b80a"
      },
      "execution_count": 8,
      "outputs": [
        {
          "output_type": "stream",
          "name": "stdout",
          "text": [
            "tensor([[154.1705]], grad_fn=<AddmmBackward0>)\n"
          ]
        }
      ]
    },
    {
      "cell_type": "code",
      "source": [
        "from torch.utils.data import Dataset\n",
        "from torch.utils.data import DataLoader\n",
        "\n",
        "class CustomDataset(Dataset):\n",
        "  def __init__(self):\n",
        "    self.x_data = [[73, 80, 75],\n",
        "                   [93, 88, 93],\n",
        "                   [89, 91, 90],\n",
        "                   [96, 98, 100],\n",
        "                   [73, 66, 70]]\n",
        "    self.y_data = [[152], [185], [180], [196], [142]]\n",
        "  def __len__(self):\n",
        "    return len(self.x_data)\n",
        "  def __getitem__(self, idx):\n",
        "    x = torch.FloatTensor(self.x_data[idx])\n",
        "    y = torch.FloatTensor(self.y_data[idx])\n",
        "    return x,y\n",
        "\n",
        "dataset = CustomDataset()\n",
        "dataloader = DataLoader(dataset, batch_size = 2, shuffle = True)\n",
        "model = torch.nn.Linear(3,1)\n",
        "optimizer = torch.optim.SGD(model.parameters(), lr = 1e-5)\n",
        "nb_epochs = 2000\n",
        "for epoch in range(nb_epochs + 1):\n",
        "  for batch_idx, samples in enumerate(dataloader):\n",
        "    # print(batch_idx)\n",
        "    # print(samples)\n",
        "    x_train, y_train = samples\n",
        "    # H(x) 계산\n",
        "    prediction = model(x_train)\n",
        "\n",
        "    # cost 계산\n",
        "    cost = F.mse_loss(prediction, y_train)\n",
        "\n",
        "    # cost로 H(x) 계산\n",
        "    optimizer.zero_grad()\n",
        "    cost.backward()\n",
        "    optimizer.step()\n",
        "\n",
        "    print('Epoch {:4d}/{} Batch {}/{} Cost: {:.6f}'.format(\n",
        "        epoch, nb_epochs, batch_idx+1, len(dataloader),\n",
        "        cost.item()\n",
        "        ))"
      ],
      "metadata": {
        "id": "1FSuTqIzZ0V_"
      },
      "execution_count": null,
      "outputs": []
    },
    {
      "cell_type": "code",
      "source": [
        "\n",
        "import numpy as np\n",
        "import matplotlib.pyplot as plt\n",
        "\n",
        "def sigmoid(x):\n",
        "  return 1/(1+np.exp(-x))\n",
        "\n",
        "x = np.arange(-5.0, 5.0, 0.1)\n",
        "y1 = sigmoid(0.5*x)\n",
        "y2 = sigmoid(x)\n",
        "y3 = sigmoid(2*x)\n",
        "\n",
        "plt.plot(x, y1, 'r', linestyle='--') # W의 값이 0.5일때\n",
        "plt.plot(x, y2, 'g') # W의 값이 1일때\n",
        "plt.plot(x, y3, 'b', linestyle='--') # W의 값이 2일때\n",
        "plt.plot([0,0],[1.0,0.0], ':') # 가운데 점선 추가\n",
        "plt.title('Sigmoid Function')\n",
        "plt.show()"
      ],
      "metadata": {
        "colab": {
          "base_uri": "https://localhost:8080/",
          "height": 281
        },
        "id": "aLGtshX_lAUI",
        "outputId": "eeb8accb-168a-48c9-8b03-1cf6ff4c9437"
      },
      "execution_count": 20,
      "outputs": [
        {
          "output_type": "display_data",
          "data": {
            "image/png": "[encoded data removed]",
            "text/plain": [
              "<Figure size 432x288 with 1 Axes>"
            ]
          },
          "metadata": {
            "needs_background": "light"
          }
        }
      ]
    },
    {
      "cell_type": "code",
      "source": [
        "import torch\n",
        "import torch.nn as nn\n",
        "import torch.nn.functional as F\n",
        "import torch.optim as optim\n",
        "\n",
        "torch.manual_seed(1)\n",
        "x_data = [[1, 2], [2, 3], [3, 1], [4, 3], [5, 3], [6, 2]]\n",
        "y_data = [[0], [0], [0], [1], [1], [1]]\n",
        "x_train = torch.FloatTensor(x_data)\n",
        "y_train = torch.FloatTensor(y_data)\n",
        "\n",
        "model = nn.Sequential(\n",
        "    \n",
        "    nn.Linear(2,1),\n",
        "    nn.Sigmoid()\n",
        ")\n",
        "model(x_train)"
      ],
      "metadata": {
        "colab": {
          "base_uri": "https://localhost:8080/"
        },
        "id": "3I3HU1mSkUuI",
        "outputId": "50d86fa7-e7eb-4919-c520-961454a1a23b"
      },
      "execution_count": 14,
      "outputs": [
        {
          "output_type": "execute_result",
          "data": {
            "text/plain": [
              "tensor([[0.4020],\n",
              "        [0.4147],\n",
              "        [0.6556],\n",
              "        [0.5948],\n",
              "        [0.6788],\n",
              "        [0.8061]], grad_fn=<SigmoidBackward0>)"
            ]
          },
          "metadata": {},
          "execution_count": 14
        }
      ]
    },
    {
      "cell_type": "code",
      "source": [
        "x_data = [[1, 2], [2, 3], [3, 1], [4, 3], [5, 3], [6, 2]]\n",
        "y_data = [[0], [0], [0], [1], [1], [1]]\n",
        "x_train = torch.FloatTensor(x_data)\n",
        "y_train = torch.FloatTensor(y_data)\n",
        "\n",
        "W = torch.zeros((2, 1), requires_grad=True) # 크기는 2 x 1\n",
        "b = torch.zeros(1, requires_grad=True)\n",
        "\n",
        "hypothesis = 1 / (1 + torch.exp(-(x_train.matmul(W) + b)))\n",
        "print(hypothesis)\n",
        "hypothesis = torch.sigmoid(x_train.matmul(W)+b)\n",
        "print(hypothesis)"
      ],
      "metadata": {
        "colab": {
          "base_uri": "https://localhost:8080/"
        },
        "id": "xIOQneGVnTU9",
        "outputId": "0920df35-c60e-4a33-b974-caa4e83df423"
      },
      "execution_count": 22,
      "outputs": [
        {
          "output_type": "stream",
          "name": "stdout",
          "text": [
            "tensor([[0.5000],\n",
            "        [0.5000],\n",
            "        [0.5000],\n",
            "        [0.5000],\n",
            "        [0.5000],\n",
            "        [0.5000]], grad_fn=<MulBackward0>)\n",
            "tensor([[0.5000],\n",
            "        [0.5000],\n",
            "        [0.5000],\n",
            "        [0.5000],\n",
            "        [0.5000],\n",
            "        [0.5000]], grad_fn=<SigmoidBackward0>)\n"
          ]
        }
      ]
    },
    {
      "cell_type": "code",
      "source": [
        "-(y_train[0]*torch.log(hypothesis[0]))+(1-y_train[0])*torch.log(1-hypothesis[0])\n",
        "losses = -(y_train * torch.log(hypothesis) + \n",
        "           (1 - y_train) * torch.log(1 - hypothesis))\n",
        "print(losses)\n",
        "cost = losses.mean()\n",
        "print(cost)"
      ],
      "metadata": {
        "colab": {
          "base_uri": "https://localhost:8080/"
        },
        "id": "ZrKxTPQ1oNoh",
        "outputId": "b1275233-6cf8-4ddd-8a70-11bccde82298"
      },
      "execution_count": 27,
      "outputs": [
        {
          "output_type": "stream",
          "name": "stdout",
          "text": [
            "tensor([[0.6931],\n",
            "        [0.6931],\n",
            "        [0.6931],\n",
            "        [0.6931],\n",
            "        [0.6931],\n",
            "        [0.6931]], grad_fn=<NegBackward0>)\n",
            "tensor(0.6931, grad_fn=<MeanBackward0>)\n"
          ]
        }
      ]
    },
    {
      "cell_type": "code",
      "source": [
        "F.binary_cross_entropy(hypothesis, y_train)\n"
      ],
      "metadata": {
        "colab": {
          "base_uri": "https://localhost:8080/"
        },
        "id": "F_imDrsyokyY",
        "outputId": "65094d5d-8e6d-4669-9663-a3fb708e3ac9"
      },
      "execution_count": 28,
      "outputs": [
        {
          "output_type": "execute_result",
          "data": {
            "text/plain": [
              "tensor(0.6931, grad_fn=<BinaryCrossEntropyBackward0>)"
            ]
          },
          "metadata": {},
          "execution_count": 28
        }
      ]
    },
    {
      "cell_type": "code",
      "source": [
        "W = torch.zeros((2, 1), requires_grad=True)\n",
        "b = torch.zeros(1, requires_grad=True)\n",
        "# optimizer 설정\n",
        "optimizer = optim.SGD([W, b], lr=1)\n",
        "\n",
        "nb_epochs = 1000\n",
        "for epoch in range(nb_epochs + 1):\n",
        "  hypothesis = torch.sigmoid(x_train.matmul(W)+b)\n",
        "  cost = -(y_train * torch.log(hypothesis) + \n",
        "           (1 - y_train) * torch.log(1 - hypothesis)).mean()\n",
        "  optimizer.zero_grad()\n",
        "  cost.backward()\n",
        "  optimizer.step()\n",
        "  if epoch % 100 == 0:\n",
        "    print('Epoch {:4d}/{} Cost: {:.6f}'.format(\n",
        "        epoch, nb_epochs, cost.item()\n",
        "        ))\n"
      ],
      "metadata": {
        "colab": {
          "base_uri": "https://localhost:8080/"
        },
        "id": "wB7AwmL8o4nQ",
        "outputId": "23edccc8-c249-42f8-9e2c-7adc184745ef"
      },
      "execution_count": 29,
      "outputs": [
        {
          "output_type": "stream",
          "name": "stdout",
          "text": [
            "Epoch    0/1000 Cost: 0.693147\n",
            "Epoch  100/1000 Cost: 0.134722\n",
            "Epoch  200/1000 Cost: 0.080643\n",
            "Epoch  300/1000 Cost: 0.057900\n",
            "Epoch  400/1000 Cost: 0.045300\n",
            "Epoch  500/1000 Cost: 0.037261\n",
            "Epoch  600/1000 Cost: 0.031673\n",
            "Epoch  700/1000 Cost: 0.027556\n",
            "Epoch  800/1000 Cost: 0.024394\n",
            "Epoch  900/1000 Cost: 0.021888\n",
            "Epoch 1000/1000 Cost: 0.019852\n"
          ]
        }
      ]
    },
    {
      "cell_type": "code",
      "source": [
        "print(hypothesis)\n",
        "prediction = hypothesis >= torch.FloatTensor([0.5])\n",
        "print(W)\n",
        "print(b)"
      ],
      "metadata": {
        "colab": {
          "base_uri": "https://localhost:8080/"
        },
        "id": "yuo7b6EvpQcJ",
        "outputId": "37121fea-c23d-4d8d-86c3-7f9055ef2d8c"
      },
      "execution_count": 33,
      "outputs": [
        {
          "output_type": "stream",
          "name": "stdout",
          "text": [
            "tensor([[2.7711e-04],\n",
            "        [3.1636e-02],\n",
            "        [3.9014e-02],\n",
            "        [9.5618e-01],\n",
            "        [9.9823e-01],\n",
            "        [9.9969e-01]], grad_fn=<SigmoidBackward0>)\n",
            "tensor([[3.2530],\n",
            "        [1.5179]], requires_grad=True)\n",
            "tensor([-14.4819], requires_grad=True)\n"
          ]
        }
      ]
    },
    {
      "cell_type": "code",
      "source": [
        "import torch\n",
        "import torch.nn as nn\n",
        "import torch.nn.functional as F\n",
        "import torch.optim as optim\n",
        "torch.manual_seed(1)\n",
        "x_data = [[1, 2], [2, 3], [3, 1], [4, 3], [5, 3], [6, 2]]\n",
        "y_data = [[0], [0], [0], [1], [1], [1]]\n",
        "x_train = torch.FloatTensor(x_data)\n",
        "y_train = torch.FloatTensor(y_data)\n",
        "model = nn.Sequential(\n",
        "   nn.Linear(2, 1), # input_dim = 2, output_dim = 1\n",
        "   nn.Sigmoid() # 출력은 시그모이드 함수를 거친다\n",
        ")\n",
        "model(x_train)\n",
        "optimizer = optim.SGD(model.parameters(), lr=1)\n",
        "nb_epochs = 1000\n",
        "for epoch in range(nb_epochs+1):\n",
        "  hypothesis = model(x_train)\n",
        "  cost = F.binary_cross_entropy(hypothesis, y_train)\n",
        "  optimizer.zero_grad()\n",
        "  cost.backward()\n",
        "  optimizer.step()\n",
        "\n",
        "  if epoch % 10 == 0:\n",
        "    prediction = hypothesis >= torch.FloatTensor([0.5])\n",
        "    correct_prediction = prediction.float() == y_train \n",
        "    accuracy = correct_prediction.sum().item() / len(correct_prediction) \n",
        "    print('Epoch {:4d}/{} Cost: {:.6f} Accuracy {:2.2f}%'.format(\n",
        "        epoch, nb_epochs, cost.item(), accuracy * 100,))"
      ],
      "metadata": {
        "colab": {
          "base_uri": "https://localhost:8080/"
        },
        "id": "yHViV7mqp94p",
        "outputId": "3805dbb6-6abf-4ee2-9e53-807ee4ab13a9"
      },
      "execution_count": 38,
      "outputs": [
        {
          "output_type": "stream",
          "name": "stdout",
          "text": [
            "Epoch    0/1000 Cost: 0.539713 Accuracy 83.33%\n",
            "Epoch   10/1000 Cost: 0.614853 Accuracy 66.67%\n",
            "Epoch   20/1000 Cost: 0.441875 Accuracy 66.67%\n",
            "Epoch   30/1000 Cost: 0.373145 Accuracy 83.33%\n",
            "Epoch   40/1000 Cost: 0.316358 Accuracy 83.33%\n",
            "Epoch   50/1000 Cost: 0.266094 Accuracy 83.33%\n",
            "Epoch   60/1000 Cost: 0.220498 Accuracy 100.00%\n",
            "Epoch   70/1000 Cost: 0.182095 Accuracy 100.00%\n",
            "Epoch   80/1000 Cost: 0.157299 Accuracy 100.00%\n",
            "Epoch   90/1000 Cost: 0.144091 Accuracy 100.00%\n",
            "Epoch  100/1000 Cost: 0.134272 Accuracy 100.00%\n",
            "Epoch  110/1000 Cost: 0.125769 Accuracy 100.00%\n",
            "Epoch  120/1000 Cost: 0.118297 Accuracy 100.00%\n",
            "Epoch  130/1000 Cost: 0.111680 Accuracy 100.00%\n",
            "Epoch  140/1000 Cost: 0.105779 Accuracy 100.00%\n",
            "Epoch  150/1000 Cost: 0.100483 Accuracy 100.00%\n",
            "Epoch  160/1000 Cost: 0.095704 Accuracy 100.00%\n",
            "Epoch  170/1000 Cost: 0.091369 Accuracy 100.00%\n",
            "Epoch  180/1000 Cost: 0.087420 Accuracy 100.00%\n",
            "Epoch  190/1000 Cost: 0.083806 Accuracy 100.00%\n",
            "Epoch  200/1000 Cost: 0.080486 Accuracy 100.00%\n",
            "Epoch  210/1000 Cost: 0.077425 Accuracy 100.00%\n",
            "Epoch  220/1000 Cost: 0.074595 Accuracy 100.00%\n",
            "Epoch  230/1000 Cost: 0.071969 Accuracy 100.00%\n",
            "Epoch  240/1000 Cost: 0.069526 Accuracy 100.00%\n",
            "Epoch  250/1000 Cost: 0.067248 Accuracy 100.00%\n",
            "Epoch  260/1000 Cost: 0.065118 Accuracy 100.00%\n",
            "Epoch  270/1000 Cost: 0.063122 Accuracy 100.00%\n",
            "Epoch  280/1000 Cost: 0.061247 Accuracy 100.00%\n",
            "Epoch  290/1000 Cost: 0.059483 Accuracy 100.00%\n",
            "Epoch  300/1000 Cost: 0.057820 Accuracy 100.00%\n",
            "Epoch  310/1000 Cost: 0.056250 Accuracy 100.00%\n",
            "Epoch  320/1000 Cost: 0.054764 Accuracy 100.00%\n",
            "Epoch  330/1000 Cost: 0.053357 Accuracy 100.00%\n",
            "Epoch  340/1000 Cost: 0.052022 Accuracy 100.00%\n",
            "Epoch  350/1000 Cost: 0.050753 Accuracy 100.00%\n",
            "Epoch  360/1000 Cost: 0.049546 Accuracy 100.00%\n",
            "Epoch  370/1000 Cost: 0.048396 Accuracy 100.00%\n",
            "Epoch  380/1000 Cost: 0.047299 Accuracy 100.00%\n",
            "Epoch  390/1000 Cost: 0.046252 Accuracy 100.00%\n",
            "Epoch  400/1000 Cost: 0.045251 Accuracy 100.00%\n",
            "Epoch  410/1000 Cost: 0.044294 Accuracy 100.00%\n",
            "Epoch  420/1000 Cost: 0.043376 Accuracy 100.00%\n",
            "Epoch  430/1000 Cost: 0.042497 Accuracy 100.00%\n",
            "Epoch  440/1000 Cost: 0.041653 Accuracy 100.00%\n",
            "Epoch  450/1000 Cost: 0.040843 Accuracy 100.00%\n",
            "Epoch  460/1000 Cost: 0.040064 Accuracy 100.00%\n",
            "Epoch  470/1000 Cost: 0.039315 Accuracy 100.00%\n",
            "Epoch  480/1000 Cost: 0.038593 Accuracy 100.00%\n",
            "Epoch  490/1000 Cost: 0.037898 Accuracy 100.00%\n",
            "Epoch  500/1000 Cost: 0.037228 Accuracy 100.00%\n",
            "Epoch  510/1000 Cost: 0.036582 Accuracy 100.00%\n",
            "Epoch  520/1000 Cost: 0.035958 Accuracy 100.00%\n",
            "Epoch  530/1000 Cost: 0.035356 Accuracy 100.00%\n",
            "Epoch  540/1000 Cost: 0.034773 Accuracy 100.00%\n",
            "Epoch  550/1000 Cost: 0.034210 Accuracy 100.00%\n",
            "Epoch  560/1000 Cost: 0.033664 Accuracy 100.00%\n",
            "Epoch  570/1000 Cost: 0.033137 Accuracy 100.00%\n",
            "Epoch  580/1000 Cost: 0.032625 Accuracy 100.00%\n",
            "Epoch  590/1000 Cost: 0.032130 Accuracy 100.00%\n",
            "Epoch  600/1000 Cost: 0.031649 Accuracy 100.00%\n",
            "Epoch  610/1000 Cost: 0.031183 Accuracy 100.00%\n",
            "Epoch  620/1000 Cost: 0.030730 Accuracy 100.00%\n",
            "Epoch  630/1000 Cost: 0.030291 Accuracy 100.00%\n",
            "Epoch  640/1000 Cost: 0.029864 Accuracy 100.00%\n",
            "Epoch  650/1000 Cost: 0.029449 Accuracy 100.00%\n",
            "Epoch  660/1000 Cost: 0.029046 Accuracy 100.00%\n",
            "Epoch  670/1000 Cost: 0.028654 Accuracy 100.00%\n",
            "Epoch  680/1000 Cost: 0.028272 Accuracy 100.00%\n",
            "Epoch  690/1000 Cost: 0.027900 Accuracy 100.00%\n",
            "Epoch  700/1000 Cost: 0.027538 Accuracy 100.00%\n",
            "Epoch  710/1000 Cost: 0.027186 Accuracy 100.00%\n",
            "Epoch  720/1000 Cost: 0.026842 Accuracy 100.00%\n",
            "Epoch  730/1000 Cost: 0.026507 Accuracy 100.00%\n",
            "Epoch  740/1000 Cost: 0.026181 Accuracy 100.00%\n",
            "Epoch  750/1000 Cost: 0.025862 Accuracy 100.00%\n",
            "Epoch  760/1000 Cost: 0.025552 Accuracy 100.00%\n",
            "Epoch  770/1000 Cost: 0.025248 Accuracy 100.00%\n",
            "Epoch  780/1000 Cost: 0.024952 Accuracy 100.00%\n",
            "Epoch  790/1000 Cost: 0.024663 Accuracy 100.00%\n",
            "Epoch  800/1000 Cost: 0.024381 Accuracy 100.00%\n",
            "Epoch  810/1000 Cost: 0.024104 Accuracy 100.00%\n",
            "Epoch  820/1000 Cost: 0.023835 Accuracy 100.00%\n",
            "Epoch  830/1000 Cost: 0.023571 Accuracy 100.00%\n",
            "Epoch  840/1000 Cost: 0.023313 Accuracy 100.00%\n",
            "Epoch  850/1000 Cost: 0.023061 Accuracy 100.00%\n",
            "Epoch  860/1000 Cost: 0.022814 Accuracy 100.00%\n",
            "Epoch  870/1000 Cost: 0.022572 Accuracy 100.00%\n",
            "Epoch  880/1000 Cost: 0.022336 Accuracy 100.00%\n",
            "Epoch  890/1000 Cost: 0.022104 Accuracy 100.00%\n",
            "Epoch  900/1000 Cost: 0.021877 Accuracy 100.00%\n",
            "Epoch  910/1000 Cost: 0.021655 Accuracy 100.00%\n",
            "Epoch  920/1000 Cost: 0.021437 Accuracy 100.00%\n",
            "Epoch  930/1000 Cost: 0.021224 Accuracy 100.00%\n",
            "Epoch  940/1000 Cost: 0.021015 Accuracy 100.00%\n",
            "Epoch  950/1000 Cost: 0.020810 Accuracy 100.00%\n",
            "Epoch  960/1000 Cost: 0.020609 Accuracy 100.00%\n",
            "Epoch  970/1000 Cost: 0.020412 Accuracy 100.00%\n",
            "Epoch  980/1000 Cost: 0.020219 Accuracy 100.00%\n",
            "Epoch  990/1000 Cost: 0.020029 Accuracy 100.00%\n",
            "Epoch 1000/1000 Cost: 0.019843 Accuracy 100.00%\n"
          ]
        }
      ]
    },
    {
      "cell_type": "code",
      "source": [
        "import torch\n",
        "import torch.nn as nn\n",
        "import torch.nn.functional as F\n",
        "import torch.optim as optim\n",
        "\n",
        "\n",
        "x_data = [[1, 2], [2, 3], [3, 1], [4, 3], [5, 3], [6, 2]]\n",
        "y_data = [[0], [0], [0], [1], [1], [1]]\n",
        "x_train = torch.FloatTensor(x_data)\n",
        "y_train = torch.FloatTensor(y_data)\n",
        "\n",
        "class BinaryClassifier(nn.Module):\n",
        "  def __init__(self):\n",
        "    super().__init__()\n",
        "    self.linear = nn.Linear(2,1)\n",
        "    self.sigmoid = nn.Sigmoid()\n",
        "  def forward(self, x):\n",
        "    return self.sigmoid(self.linear(x))\n",
        "    \n",
        "\n",
        "model = BinaryClassifier()\n",
        "optimizer = optim.SGD(model.parameters(), lr = 1)\n",
        "nb_epochs = 1000\n",
        "for epoch in range(nb_epochs+1):\n",
        "  hypothesis = model(x_train)\n",
        "  cost = F.binary_cross_entropy(hypothesis, y_train)\n",
        "  optimizer.zero_grad()\n",
        "  cost.backward()\n",
        "  optimizer.step()\n",
        "\n",
        "  if epoch % 10 == 0:\n",
        "    prediction = hypothesis >= torch.FloatTensor([0.5])\n",
        "    correct_prediction = prediction.float() == y_train\n",
        "    accuracy = correct_prediction.sum().item()/len(correct_prediction)\n",
        "    print('Epoch {:4d}/{} Cost: {:.6f} Accuracy {:2.2f}%'.format( # 각 에포크마다 정확도를 출력\n",
        "            epoch, nb_epochs, cost.item(), accuracy * 100,\n",
        "        ))"
      ],
      "metadata": {
        "colab": {
          "base_uri": "https://localhost:8080/"
        },
        "id": "S_yea9wlqDhS",
        "outputId": "c40d50e9-0997-462d-fbed-488a1f5eb7a6"
      },
      "execution_count": 7,
      "outputs": [
        {
          "output_type": "stream",
          "name": "stdout",
          "text": [
            "Epoch    0/1000 Cost: 0.666565 Accuracy 50.00%\n",
            "Epoch   10/1000 Cost: 0.597682 Accuracy 83.33%\n",
            "Epoch   20/1000 Cost: 0.650253 Accuracy 83.33%\n",
            "Epoch   30/1000 Cost: 0.541721 Accuracy 83.33%\n",
            "Epoch   40/1000 Cost: 0.453505 Accuracy 83.33%\n",
            "Epoch   50/1000 Cost: 0.369330 Accuracy 83.33%\n",
            "Epoch   60/1000 Cost: 0.290070 Accuracy 83.33%\n",
            "Epoch   70/1000 Cost: 0.221421 Accuracy 83.33%\n",
            "Epoch   80/1000 Cost: 0.174404 Accuracy 100.00%\n",
            "Epoch   90/1000 Cost: 0.152180 Accuracy 100.00%\n",
            "Epoch  100/1000 Cost: 0.140640 Accuracy 100.00%\n",
            "Epoch  110/1000 Cost: 0.131313 Accuracy 100.00%\n",
            "Epoch  120/1000 Cost: 0.123176 Accuracy 100.00%\n",
            "Epoch  130/1000 Cost: 0.116007 Accuracy 100.00%\n",
            "Epoch  140/1000 Cost: 0.109642 Accuracy 100.00%\n",
            "Epoch  150/1000 Cost: 0.103953 Accuracy 100.00%\n",
            "Epoch  160/1000 Cost: 0.098838 Accuracy 100.00%\n",
            "Epoch  170/1000 Cost: 0.094214 Accuracy 100.00%\n",
            "Epoch  180/1000 Cost: 0.090014 Accuracy 100.00%\n",
            "Epoch  190/1000 Cost: 0.086181 Accuracy 100.00%\n",
            "Epoch  200/1000 Cost: 0.082669 Accuracy 100.00%\n",
            "Epoch  210/1000 Cost: 0.079439 Accuracy 100.00%\n",
            "Epoch  220/1000 Cost: 0.076459 Accuracy 100.00%\n",
            "Epoch  230/1000 Cost: 0.073699 Accuracy 100.00%\n",
            "Epoch  240/1000 Cost: 0.071136 Accuracy 100.00%\n",
            "Epoch  250/1000 Cost: 0.068750 Accuracy 100.00%\n",
            "Epoch  260/1000 Cost: 0.066523 Accuracy 100.00%\n",
            "Epoch  270/1000 Cost: 0.064439 Accuracy 100.00%\n",
            "Epoch  280/1000 Cost: 0.062484 Accuracy 100.00%\n",
            "Epoch  290/1000 Cost: 0.060648 Accuracy 100.00%\n",
            "Epoch  300/1000 Cost: 0.058919 Accuracy 100.00%\n",
            "Epoch  310/1000 Cost: 0.057287 Accuracy 100.00%\n",
            "Epoch  320/1000 Cost: 0.055746 Accuracy 100.00%\n",
            "Epoch  330/1000 Cost: 0.054287 Accuracy 100.00%\n",
            "Epoch  340/1000 Cost: 0.052905 Accuracy 100.00%\n",
            "Epoch  350/1000 Cost: 0.051592 Accuracy 100.00%\n",
            "Epoch  360/1000 Cost: 0.050344 Accuracy 100.00%\n",
            "Epoch  370/1000 Cost: 0.049157 Accuracy 100.00%\n",
            "Epoch  380/1000 Cost: 0.048025 Accuracy 100.00%\n",
            "Epoch  390/1000 Cost: 0.046945 Accuracy 100.00%\n",
            "Epoch  400/1000 Cost: 0.045914 Accuracy 100.00%\n",
            "Epoch  410/1000 Cost: 0.044928 Accuracy 100.00%\n",
            "Epoch  420/1000 Cost: 0.043984 Accuracy 100.00%\n",
            "Epoch  430/1000 Cost: 0.043079 Accuracy 100.00%\n",
            "Epoch  440/1000 Cost: 0.042212 Accuracy 100.00%\n",
            "Epoch  450/1000 Cost: 0.041380 Accuracy 100.00%\n",
            "Epoch  460/1000 Cost: 0.040580 Accuracy 100.00%\n",
            "Epoch  470/1000 Cost: 0.039811 Accuracy 100.00%\n",
            "Epoch  480/1000 Cost: 0.039071 Accuracy 100.00%\n",
            "Epoch  490/1000 Cost: 0.038359 Accuracy 100.00%\n",
            "Epoch  500/1000 Cost: 0.037673 Accuracy 100.00%\n",
            "Epoch  510/1000 Cost: 0.037011 Accuracy 100.00%\n",
            "Epoch  520/1000 Cost: 0.036372 Accuracy 100.00%\n",
            "Epoch  530/1000 Cost: 0.035755 Accuracy 100.00%\n",
            "Epoch  540/1000 Cost: 0.035159 Accuracy 100.00%\n",
            "Epoch  550/1000 Cost: 0.034583 Accuracy 100.00%\n",
            "Epoch  560/1000 Cost: 0.034026 Accuracy 100.00%\n",
            "Epoch  570/1000 Cost: 0.033487 Accuracy 100.00%\n",
            "Epoch  580/1000 Cost: 0.032964 Accuracy 100.00%\n",
            "Epoch  590/1000 Cost: 0.032459 Accuracy 100.00%\n",
            "Epoch  600/1000 Cost: 0.031968 Accuracy 100.00%\n",
            "Epoch  610/1000 Cost: 0.031492 Accuracy 100.00%\n",
            "Epoch  620/1000 Cost: 0.031031 Accuracy 100.00%\n",
            "Epoch  630/1000 Cost: 0.030583 Accuracy 100.00%\n",
            "Epoch  640/1000 Cost: 0.030147 Accuracy 100.00%\n",
            "Epoch  650/1000 Cost: 0.029725 Accuracy 100.00%\n",
            "Epoch  660/1000 Cost: 0.029314 Accuracy 100.00%\n",
            "Epoch  670/1000 Cost: 0.028914 Accuracy 100.00%\n",
            "Epoch  680/1000 Cost: 0.028525 Accuracy 100.00%\n",
            "Epoch  690/1000 Cost: 0.028147 Accuracy 100.00%\n",
            "Epoch  700/1000 Cost: 0.027779 Accuracy 100.00%\n",
            "Epoch  710/1000 Cost: 0.027420 Accuracy 100.00%\n",
            "Epoch  720/1000 Cost: 0.027070 Accuracy 100.00%\n",
            "Epoch  730/1000 Cost: 0.026730 Accuracy 100.00%\n",
            "Epoch  740/1000 Cost: 0.026398 Accuracy 100.00%\n",
            "Epoch  750/1000 Cost: 0.026074 Accuracy 100.00%\n",
            "Epoch  760/1000 Cost: 0.025758 Accuracy 100.00%\n",
            "Epoch  770/1000 Cost: 0.025450 Accuracy 100.00%\n",
            "Epoch  780/1000 Cost: 0.025149 Accuracy 100.00%\n",
            "Epoch  790/1000 Cost: 0.024855 Accuracy 100.00%\n",
            "Epoch  800/1000 Cost: 0.024568 Accuracy 100.00%\n",
            "Epoch  810/1000 Cost: 0.024288 Accuracy 100.00%\n",
            "Epoch  820/1000 Cost: 0.024014 Accuracy 100.00%\n",
            "Epoch  830/1000 Cost: 0.023746 Accuracy 100.00%\n",
            "Epoch  840/1000 Cost: 0.023484 Accuracy 100.00%\n",
            "Epoch  850/1000 Cost: 0.023228 Accuracy 100.00%\n",
            "Epoch  860/1000 Cost: 0.022978 Accuracy 100.00%\n",
            "Epoch  870/1000 Cost: 0.022733 Accuracy 100.00%\n",
            "Epoch  880/1000 Cost: 0.022493 Accuracy 100.00%\n",
            "Epoch  890/1000 Cost: 0.022258 Accuracy 100.00%\n",
            "Epoch  900/1000 Cost: 0.022028 Accuracy 100.00%\n",
            "Epoch  910/1000 Cost: 0.021803 Accuracy 100.00%\n",
            "Epoch  920/1000 Cost: 0.021582 Accuracy 100.00%\n",
            "Epoch  930/1000 Cost: 0.021366 Accuracy 100.00%\n",
            "Epoch  940/1000 Cost: 0.021154 Accuracy 100.00%\n",
            "Epoch  950/1000 Cost: 0.020946 Accuracy 100.00%\n",
            "Epoch  960/1000 Cost: 0.020743 Accuracy 100.00%\n",
            "Epoch  970/1000 Cost: 0.020543 Accuracy 100.00%\n",
            "Epoch  980/1000 Cost: 0.020347 Accuracy 100.00%\n",
            "Epoch  990/1000 Cost: 0.020155 Accuracy 100.00%\n",
            "Epoch 1000/1000 Cost: 0.019967 Accuracy 100.00%\n"
          ]
        }
      ]
    },
    {
      "cell_type": "code",
      "source": [
        "import torch\n",
        "import torch.nn.functional as F\n",
        "\n",
        "\n",
        "\n",
        "z = torch.FloatTensor([1,2,3])\n",
        "hypothesis = F.softmax(z, dim = 0)\n",
        "print(hypothesis)"
      ],
      "metadata": {
        "colab": {
          "base_uri": "https://localhost:8080/"
        },
        "id": "VaFbvgOLNpE3",
        "outputId": "98325153-12b0-464a-de03-962e17408003"
      },
      "execution_count": 10,
      "outputs": [
        {
          "output_type": "stream",
          "name": "stdout",
          "text": [
            "tensor([0.0900, 0.2447, 0.6652])\n"
          ]
        }
      ]
    },
    {
      "cell_type": "code",
      "source": [
        "torch.manual_seed(1)\n",
        "z = torch.rand(3,5, requires_grad = True)\n",
        "hypothesis = F.softmax(z, dim = 1)\n",
        "hypothesis"
      ],
      "metadata": {
        "colab": {
          "base_uri": "https://localhost:8080/"
        },
        "id": "ZuultnR2OGf8",
        "outputId": "6080960c-c537-4a92-f62e-ea4d03bfbbd1"
      },
      "execution_count": 14,
      "outputs": [
        {
          "output_type": "execute_result",
          "data": {
            "text/plain": [
              "tensor([[0.2645, 0.1639, 0.1855, 0.2585, 0.1277],\n",
              "        [0.2430, 0.1624, 0.2322, 0.1930, 0.1694],\n",
              "        [0.2226, 0.1986, 0.2326, 0.1594, 0.1868]], grad_fn=<SoftmaxBackward0>)"
            ]
          },
          "metadata": {},
          "execution_count": 14
        }
      ]
    },
    {
      "cell_type": "code",
      "source": [
        ""
      ],
      "metadata": {
        "colab": {
          "base_uri": "https://localhost:8080/"
        },
        "id": "xbX4XCJkP7qF",
        "outputId": "9967ee74-41b5-4228-a4a9-19ff31250a6c"
      },
      "execution_count": 47,
      "outputs": [
        {
          "output_type": "execute_result",
          "data": {
            "text/plain": [
              "tensor([2, 3, 3])"
            ]
          },
          "metadata": {},
          "execution_count": 47
        }
      ]
    },
    {
      "cell_type": "code",
      "source": [
        "y = torch.randint(5, (3,)).long()\n",
        "print(y+1)\n",
        "print(y.unsqueeze(1))\n",
        "y_one_hot = torch.zeros_like(hypothesis)\n",
        "y_one_hot.scatter_(1, y.unsqueeze(1),1)"
      ],
      "metadata": {
        "colab": {
          "base_uri": "https://localhost:8080/"
        },
        "id": "TWjisjOnQ-CQ",
        "outputId": "e2d246dc-a779-42ce-e0db-a1c047025683"
      },
      "execution_count": 57,
      "outputs": [
        {
          "output_type": "stream",
          "name": "stdout",
          "text": [
            "tensor([4, 5, 3])\n",
            "tensor([[3],\n",
            "        [4],\n",
            "        [2]])\n"
          ]
        },
        {
          "output_type": "execute_result",
          "data": {
            "text/plain": [
              "tensor([[0., 0., 0., 1., 0.],\n",
              "        [0., 0., 0., 0., 1.],\n",
              "        [0., 0., 1., 0., 0.]])"
            ]
          },
          "metadata": {},
          "execution_count": 57
        }
      ]
    },
    {
      "cell_type": "code",
      "source": [
        "cost = (y_one_hot * - torch.log(hypothesis)).sum(dim = 1).mean()\n",
        "print(cost)"
      ],
      "metadata": {
        "colab": {
          "base_uri": "https://localhost:8080/"
        },
        "id": "r132Cg-nSIg0",
        "outputId": "582233fc-f519-4ee3-8f71-3498fac38862"
      },
      "execution_count": 58,
      "outputs": [
        {
          "output_type": "stream",
          "name": "stdout",
          "text": [
            "tensor(1.5291, grad_fn=<MeanBackward0>)\n"
          ]
        }
      ]
    }
  ]
}