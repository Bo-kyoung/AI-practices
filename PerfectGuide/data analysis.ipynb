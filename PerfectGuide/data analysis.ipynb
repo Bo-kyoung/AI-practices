{
 "cells": [
  {
   "cell_type": "code",
   "execution_count": 3,
   "id": "7e27e8d1",
   "metadata": {},
   "outputs": [],
   "source": [
    "import pandas as pd\n",
    "import numpy as np\n",
    "\n",
    "data = pd.read_csv('ATOM_mice.csv')"
   ]
  },
  {
   "cell_type": "code",
   "execution_count": 30,
   "id": "d0b9cebb",
   "metadata": {},
   "outputs": [
    {
     "data": {
      "text/plain": [
       "['group',\n",
       " 'time',\n",
       " 'ISI',\n",
       " 'PSS',\n",
       " 'DLQI',\n",
       " 'BENE',\n",
       " 'preISI',\n",
       " 'prePSS',\n",
       " 'preDLQI',\n",
       " 'preBENE']"
      ]
     },
     "execution_count": 30,
     "metadata": {},
     "output_type": "execute_result"
    }
   ],
   "source": [
    "data.head()\n",
    "columns = data.columns.values.tolist()\n",
    "columns"
   ]
  },
  {
   "cell_type": "code",
   "execution_count": 35,
   "id": "0fe493cf",
   "metadata": {},
   "outputs": [
    {
     "name": "stdout",
     "output_type": "stream",
     "text": [
      "\n",
      "척도ISI\n",
      "\n",
      "실험군        ISI      \n",
      "      mean   std\n",
      "time            \n",
      "1     9.16  5.68\n",
      "2     8.40  7.12\n",
      "3     7.52  7.17\n",
      "\n",
      "대조군:        ISI      \n",
      "      mean   std\n",
      "time            \n",
      "1     9.77  4.72\n",
      "2     6.58  4.29\n",
      "3     6.35  4.69\n",
      "========================================\n",
      "\n",
      "척도PSS\n",
      "\n",
      "실험군         PSS      \n",
      "       mean   std\n",
      "time             \n",
      "1     23.60  6.51\n",
      "2     23.32  6.95\n",
      "3     23.40  7.52\n",
      "\n",
      "대조군:         PSS      \n",
      "       mean   std\n",
      "time             \n",
      "1     23.19  5.71\n",
      "2     22.96  5.97\n",
      "3     22.12  4.97\n",
      "========================================\n",
      "\n",
      "척도DLQI\n",
      "\n",
      "실험군       DLQI      \n",
      "      mean   std\n",
      "time            \n",
      "1     8.24  5.08\n",
      "2     6.36  4.44\n",
      "3     5.44  5.26\n",
      "\n",
      "대조군:       DLQI      \n",
      "      mean   std\n",
      "time            \n",
      "1     7.42  6.07\n",
      "2     5.31  4.91\n",
      "3     4.58  4.01\n",
      "========================================\n",
      "\n",
      "척도BENE\n",
      "\n",
      "실험군        BENE       \n",
      "       mean    std\n",
      "time              \n",
      "1     40.16  12.89\n",
      "2     39.52  13.16\n",
      "3     36.32  13.45\n",
      "\n",
      "대조군:        BENE      \n",
      "       mean   std\n",
      "time             \n",
      "1     37.12  9.59\n",
      "2     36.85  9.83\n",
      "3     36.27  8.06\n",
      "========================================\n"
     ]
    }
   ],
   "source": [
    "\n",
    "for col in columns[2:6]:\n",
    "    group1 = data[data['group']=='S'][['time',col]]\n",
    "    group2 = data[data['group']=='W'][['time',col]]\n",
    "    print('\\n척도{0}'.format(col))\n",
    "    print('\\n실험군',round(group1.groupby(by = 'time')[[col]].agg(['mean','std']),2))\n",
    "    print('\\n대조군:',round(group2.groupby(by = 'time')[[col]].agg(['mean','std']),2))\n",
    "    print('========================================')"
   ]
  },
  {
   "cell_type": "code",
   "execution_count": 20,
   "id": "d6b31a65",
   "metadata": {},
   "outputs": [
    {
     "data": {
      "text/plain": [
       "time\n",
       "1    5.166635\n",
       "2    5.866355\n",
       "3    5.999477\n",
       "Name: ISI, dtype: float64"
      ]
     },
     "execution_count": 20,
     "metadata": {},
     "output_type": "execute_result"
    }
   ],
   "source": [
    "data.groupby(by = 'time')['ISI'].std()"
   ]
  }
 ],
 "metadata": {
  "kernelspec": {
   "display_name": "Python 3 (ipykernel)",
   "language": "python",
   "name": "python3"
  },
  "language_info": {
   "codemirror_mode": {
    "name": "ipython",
    "version": 3
   },
   "file_extension": ".py",
   "mimetype": "text/x-python",
   "name": "python",
   "nbconvert_exporter": "python",
   "pygments_lexer": "ipython3",
   "version": "3.9.7"
  }
 },
 "nbformat": 4,
 "nbformat_minor": 5
}
