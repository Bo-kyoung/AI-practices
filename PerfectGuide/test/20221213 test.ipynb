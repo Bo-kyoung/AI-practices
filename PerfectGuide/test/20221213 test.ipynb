{
 "cells": [
  {
   "cell_type": "code",
   "execution_count": 2,
   "id": "03379c87",
   "metadata": {},
   "outputs": [],
   "source": [
    "from sklearn.preprocessing import LabelEncoder"
   ]
  },
  {
   "cell_type": "code",
   "execution_count": 3,
   "id": "fc92c420",
   "metadata": {},
   "outputs": [],
   "source": [
    "#items= ['TV','냉장고','전자레인지','선풍기','선풍기'] 레이블 인코딩 해보기, \n",
    "item = ['TV','냉장고','전자레인지','선풍기','선풍기']\n",
    "encoder = LabelEncoder()\n",
    "encoder.fit(item)\n",
    "result = encoder.transform(item)"
   ]
  },
  {
   "cell_type": "code",
   "execution_count": 5,
   "id": "cdd9021f",
   "metadata": {},
   "outputs": [
    {
     "data": {
      "text/plain": [
       "'냉장고'"
      ]
     },
     "execution_count": 5,
     "metadata": {},
     "output_type": "execute_result"
    }
   ],
   "source": [
    "#문자열 값이 어떤 숫자로 encoding되었는지 확인하기, 이걸로 1번은 무엇인지 확인\n",
    "encoder.classes_[1]"
   ]
  },
  {
   "cell_type": "code",
   "execution_count": 8,
   "id": "8e559e44",
   "metadata": {},
   "outputs": [
    {
     "name": "stdout",
     "output_type": "stream",
     "text": [
      "[[0]\n",
      " [1]\n",
      " [3]\n",
      " [2]\n",
      " [2]]\n",
      "[[1. 0. 0. 0.]\n",
      " [0. 1. 0. 0.]\n",
      " [0. 0. 0. 1.]\n",
      " [0. 0. 1. 0.]\n",
      " [0. 0. 1. 0.]]\n"
     ]
    }
   ],
   "source": [
    "#원핫 인코딩을 적용하기 위한 두가지 조건: 1) 문자열이 숫자로, 2) 2차원 데이터 필요\n",
    "from sklearn.preprocessing import OneHotEncoder\n",
    "import numpy as np\n",
    "item = ['TV','냉장고','전자레인지','선풍기','선풍기']\n",
    "encoder = LabelEncoder()\n",
    "encoder.fit(item)\n",
    "labels = encoder.transform(item)\n",
    "labels = labels.reshape(-1,1) #axis = 1이 1로 코딩 cloumn vector형태\n",
    "print(labels)\n",
    "\n",
    "oh_encoder = OneHotEncoder()\n",
    "oh_encoder.fit(labels)\n",
    "oh_result = oh_encoder.transform(labels)\n",
    "print(oh_result.toarray())"
   ]
  },
  {
   "cell_type": "code",
   "execution_count": 12,
   "id": "7124d5ba",
   "metadata": {},
   "outputs": [
    {
     "data": {
      "text/html": [
       "<div>\n",
       "<style scoped>\n",
       "    .dataframe tbody tr th:only-of-type {\n",
       "        vertical-align: middle;\n",
       "    }\n",
       "\n",
       "    .dataframe tbody tr th {\n",
       "        vertical-align: top;\n",
       "    }\n",
       "\n",
       "    .dataframe thead th {\n",
       "        text-align: right;\n",
       "    }\n",
       "</style>\n",
       "<table border=\"1\" class=\"dataframe\">\n",
       "  <thead>\n",
       "    <tr style=\"text-align: right;\">\n",
       "      <th></th>\n",
       "      <th>item_TV</th>\n",
       "      <th>item_냉장고</th>\n",
       "      <th>item_선풍기</th>\n",
       "      <th>item_전자레인지</th>\n",
       "    </tr>\n",
       "  </thead>\n",
       "  <tbody>\n",
       "    <tr>\n",
       "      <th>0</th>\n",
       "      <td>1</td>\n",
       "      <td>0</td>\n",
       "      <td>0</td>\n",
       "      <td>0</td>\n",
       "    </tr>\n",
       "    <tr>\n",
       "      <th>1</th>\n",
       "      <td>0</td>\n",
       "      <td>1</td>\n",
       "      <td>0</td>\n",
       "      <td>0</td>\n",
       "    </tr>\n",
       "    <tr>\n",
       "      <th>2</th>\n",
       "      <td>0</td>\n",
       "      <td>0</td>\n",
       "      <td>0</td>\n",
       "      <td>1</td>\n",
       "    </tr>\n",
       "    <tr>\n",
       "      <th>3</th>\n",
       "      <td>0</td>\n",
       "      <td>0</td>\n",
       "      <td>1</td>\n",
       "      <td>0</td>\n",
       "    </tr>\n",
       "    <tr>\n",
       "      <th>4</th>\n",
       "      <td>0</td>\n",
       "      <td>0</td>\n",
       "      <td>1</td>\n",
       "      <td>0</td>\n",
       "    </tr>\n",
       "  </tbody>\n",
       "</table>\n",
       "</div>"
      ],
      "text/plain": [
       "   item_TV  item_냉장고  item_선풍기  item_전자레인지\n",
       "0        1         0         0           0\n",
       "1        0         1         0           0\n",
       "2        0         0         0           1\n",
       "3        0         0         1           0\n",
       "4        0         0         1           0"
      ]
     },
     "execution_count": 12,
     "metadata": {},
     "output_type": "execute_result"
    }
   ],
   "source": [
    "#회기 기반 ML은 레이블 인코딩이 가능하다 (O, X) : X!\n",
    "#트리기반 ML은 레이블 인코딩이 가능하다(O,X) : O!\n",
    "#판다스 기반 원핫 인코딩 함수는? get_dummies\n",
    "import pandas as pd\n",
    "df = pd.DataFrame({'item':['TV','냉장고','전자레인지','선풍기','선풍기']})\n",
    "pd.get_dummies(df)"
   ]
  }
 ],
 "metadata": {
  "kernelspec": {
   "display_name": "Python 3 (ipykernel)",
   "language": "python",
   "name": "python3"
  },
  "language_info": {
   "codemirror_mode": {
    "name": "ipython",
    "version": 3
   },
   "file_extension": ".py",
   "mimetype": "text/x-python",
   "name": "python",
   "nbconvert_exporter": "python",
   "pygments_lexer": "ipython3",
   "version": "3.9.7"
  }
 },
 "nbformat": 4,
 "nbformat_minor": 5
}
